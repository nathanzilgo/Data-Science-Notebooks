{
 "cells": [
  {
   "cell_type": "markdown",
   "metadata": {},
   "source": [
    "I will be using the Latent Dirichlet Allocation (LDA) from Gensim package along with the Mallet’s implementation (via Gensim). Mallet has an efficient implementation of the LDA. It is known to run faster and gives better topics segregation"
   ]
  },
  {
   "cell_type": "code",
   "execution_count": 1,
   "metadata": {},
   "outputs": [
    {
     "name": "stdout",
     "output_type": "stream",
     "text": [
      "Looking in indexes: http://pypi.douban.com/simple/"
     ]
    },
    {
     "name": "stderr",
     "output_type": "stream",
     "text": [
      "WARNING: Ignoring invalid distribution -atplotlib (c:\\users\\natha\\anaconda3\\lib\\site-packages)\n",
      "WARNING: Ignoring invalid distribution -atplotlib (c:\\users\\natha\\anaconda3\\lib\\site-packages)\n",
      "WARNING: Ignoring invalid distribution -atplotlib (c:\\users\\natha\\anaconda3\\lib\\site-packages)\n",
      "WARNING: Ignoring invalid distribution -atplotlib (c:\\users\\natha\\anaconda3\\lib\\site-packages)\n",
      "WARNING: Ignoring invalid distribution -atplotlib (c:\\users\\natha\\anaconda3\\lib\\site-packages)\n"
     ]
    },
    {
     "name": "stdout",
     "output_type": "stream",
     "text": [
      "\n",
      "Requirement already satisfied: pip in c:\\users\\natha\\anaconda3\\lib\\site-packages (21.3)\n",
      "Looking in indexes: http://pypi.douban.com/simple/\n"
     ]
    },
    {
     "name": "stderr",
     "output_type": "stream",
     "text": [
      "WARNING: Ignoring invalid distribution -atplotlib (c:\\users\\natha\\anaconda3\\lib\\site-packages)\n",
      "WARNING: Ignoring invalid distribution -atplotlib (c:\\users\\natha\\anaconda3\\lib\\site-packages)\n",
      "ERROR: Could not find a version that satisfies the requirement pyLDAvis.gensim (from versions: none)\n",
      "ERROR: No matching distribution found for pyLDAvis.gensim\n",
      "WARNING: Ignoring invalid distribution -atplotlib (c:\\users\\natha\\anaconda3\\lib\\site-packages)\n",
      "WARNING: Ignoring invalid distribution -atplotlib (c:\\users\\natha\\anaconda3\\lib\\site-packages)\n"
     ]
    }
   ],
   "source": [
    "# !python -m spacy download en\n",
    "# !pip install --user pyldavis\n",
    "!python -m pip install --upgrade pip\n",
    "!pip install --user pyLDAvis.gensim"
   ]
  },
  {
   "cell_type": "code",
   "execution_count": 5,
   "metadata": {},
   "outputs": [
    {
     "name": "stderr",
     "output_type": "stream",
     "text": [
      "[nltk_data] Downloading package stopwords to\n",
      "[nltk_data]     C:\\Users\\natha\\AppData\\Roaming\\nltk_data...\n",
      "[nltk_data]   Unzipping corpora\\stopwords.zip.\n"
     ]
    }
   ],
   "source": [
    "import pandas as pd\n",
    "import numpy as np\n",
    "import re\n",
    "\n",
    "import nltk\n",
    "nltk.download('stopwords')\n",
    "\n",
    "from pprint import pprint\n",
    "\n",
    "# Gensim\n",
    "import gensim\n",
    "import gensim.corpora as corpora\n",
    "from gensim.utils import simple_preprocess\n",
    "from gensim.models import CoherenceModel\n",
    "\n",
    "# spacy for lemmatization\n",
    "import spacy\n",
    "\n",
    "# Plotting tools\n",
    "import pyLDAvis\n",
    "import pyLDAvis.gensim_models  # don't skip this\n",
    "import matplotlib.pyplot as plt\n",
    "%matplotlib inline\n",
    "\n",
    "# Enable logging for gensim - optional\n",
    "import logging\n",
    "logging.basicConfig(format='%(asctime)s : %(levelname)s : %(message)s', level=logging.ERROR)\n",
    "\n",
    "import warnings\n",
    "warnings.filterwarnings(\"ignore\",category=DeprecationWarning)"
   ]
  },
  {
   "cell_type": "code",
   "execution_count": 6,
   "metadata": {},
   "outputs": [],
   "source": [
    "# NLTK Stop words\n",
    "from nltk.corpus import stopwords\n",
    "stop_words = stopwords.words('english')\n",
    "stop_words.extend(['from', 'subject', 're', 'edu', 'use'])"
   ]
  },
  {
   "cell_type": "code",
   "execution_count": 7,
   "metadata": {},
   "outputs": [
    {
     "name": "stdout",
     "output_type": "stream",
     "text": [
      "['rec.autos' 'comp.sys.mac.hardware' 'comp.graphics' 'sci.space'\n",
      " 'talk.politics.guns' 'sci.med' 'comp.sys.ibm.pc.hardware'\n",
      " 'comp.os.ms-windows.misc' 'rec.motorcycles' 'talk.religion.misc'\n",
      " 'misc.forsale' 'alt.atheism' 'sci.electronics' 'comp.windows.x'\n",
      " 'rec.sport.hockey' 'rec.sport.baseball' 'soc.religion.christian'\n",
      " 'talk.politics.mideast' 'talk.politics.misc' 'sci.crypt']\n"
     ]
    },
    {
     "data": {
      "text/html": [
       "<div>\n",
       "<style scoped>\n",
       "    .dataframe tbody tr th:only-of-type {\n",
       "        vertical-align: middle;\n",
       "    }\n",
       "\n",
       "    .dataframe tbody tr th {\n",
       "        vertical-align: top;\n",
       "    }\n",
       "\n",
       "    .dataframe thead th {\n",
       "        text-align: right;\n",
       "    }\n",
       "</style>\n",
       "<table border=\"1\" class=\"dataframe\">\n",
       "  <thead>\n",
       "    <tr style=\"text-align: right;\">\n",
       "      <th></th>\n",
       "      <th>content</th>\n",
       "      <th>target</th>\n",
       "      <th>target_names</th>\n",
       "    </tr>\n",
       "  </thead>\n",
       "  <tbody>\n",
       "    <tr>\n",
       "      <th>0</th>\n",
       "      <td>From: lerxst@wam.umd.edu (where's my thing)\\nS...</td>\n",
       "      <td>7</td>\n",
       "      <td>rec.autos</td>\n",
       "    </tr>\n",
       "    <tr>\n",
       "      <th>1</th>\n",
       "      <td>From: guykuo@carson.u.washington.edu (Guy Kuo)...</td>\n",
       "      <td>4</td>\n",
       "      <td>comp.sys.mac.hardware</td>\n",
       "    </tr>\n",
       "    <tr>\n",
       "      <th>2</th>\n",
       "      <td>From: twillis@ec.ecn.purdue.edu (Thomas E Will...</td>\n",
       "      <td>4</td>\n",
       "      <td>comp.sys.mac.hardware</td>\n",
       "    </tr>\n",
       "    <tr>\n",
       "      <th>3</th>\n",
       "      <td>From: jgreen@amber (Joe Green)\\nSubject: Re: W...</td>\n",
       "      <td>1</td>\n",
       "      <td>comp.graphics</td>\n",
       "    </tr>\n",
       "    <tr>\n",
       "      <th>4</th>\n",
       "      <td>From: jcm@head-cfa.harvard.edu (Jonathan McDow...</td>\n",
       "      <td>14</td>\n",
       "      <td>sci.space</td>\n",
       "    </tr>\n",
       "  </tbody>\n",
       "</table>\n",
       "</div>"
      ],
      "text/plain": [
       "                                             content  target  \\\n",
       "0  From: lerxst@wam.umd.edu (where's my thing)\\nS...       7   \n",
       "1  From: guykuo@carson.u.washington.edu (Guy Kuo)...       4   \n",
       "2  From: twillis@ec.ecn.purdue.edu (Thomas E Will...       4   \n",
       "3  From: jgreen@amber (Joe Green)\\nSubject: Re: W...       1   \n",
       "4  From: jcm@head-cfa.harvard.edu (Jonathan McDow...      14   \n",
       "\n",
       "            target_names  \n",
       "0              rec.autos  \n",
       "1  comp.sys.mac.hardware  \n",
       "2  comp.sys.mac.hardware  \n",
       "3          comp.graphics  \n",
       "4              sci.space  "
      ]
     },
     "execution_count": 7,
     "metadata": {},
     "output_type": "execute_result"
    }
   ],
   "source": [
    "df = pd.read_json('https://raw.githubusercontent.com/selva86/datasets/master/newsgroups.json')\n",
    "print(df.target_names.unique())\n",
    "df.head()"
   ]
  },
  {
   "cell_type": "code",
   "execution_count": 8,
   "metadata": {},
   "outputs": [
    {
     "name": "stdout",
     "output_type": "stream",
     "text": [
      "['From: (wheres my thing) Subject: WHAT car is this!? Nntp-Posting-Host: '\n",
      " 'rac3.wam.umd.edu Organization: University of Maryland, College Park Lines: '\n",
      " '15 I was wondering if anyone out there could enlighten me on this car I saw '\n",
      " 'the other day. It was a 2-door sports car, looked to be from the late 60s/ '\n",
      " 'early 70s. It was called a Bricklin. The doors were really small. In '\n",
      " 'addition, the front bumper was separate from the rest of the body. This is '\n",
      " 'all I know. If anyone can tellme a model name, engine specs, years of '\n",
      " 'production, where this car is made, history, or whatever info you have on '\n",
      " 'this funky looking car, please e-mail. Thanks, - IL ---- brought to you by '\n",
      " 'your neighborhood Lerxst ---- ']\n"
     ]
    }
   ],
   "source": [
    "# Convert to list\n",
    "data = df.content.values.tolist()\n",
    "\n",
    "# Remove Emails\n",
    "data = [re.sub('\\S*@\\S*\\s?', '', sent) for sent in data]\n",
    "\n",
    "# Remove new line characters\n",
    "data = [re.sub('\\s+', ' ', sent) for sent in data]\n",
    "\n",
    "# Remove distracting single quotes\n",
    "data = [re.sub(\"\\'\", \"\", sent) for sent in data]\n",
    "\n",
    "pprint(data[:1])"
   ]
  },
  {
   "cell_type": "markdown",
   "metadata": {},
   "source": [
    "## Divide the rows into sentences with gensim's simple_preprocess and remove punctuations"
   ]
  },
  {
   "cell_type": "code",
   "execution_count": 9,
   "metadata": {},
   "outputs": [
    {
     "name": "stdout",
     "output_type": "stream",
     "text": [
      "[['from', 'wheres', 'my', 'thing', 'subject', 'what', 'car', 'is', 'this', 'nntp', 'posting', 'host', 'rac', 'wam', 'umd', 'edu', 'organization', 'university', 'of', 'maryland', 'college', 'park', 'lines', 'was', 'wondering', 'if', 'anyone', 'out', 'there', 'could', 'enlighten', 'me', 'on', 'this', 'car', 'saw', 'the', 'other', 'day', 'it', 'was', 'door', 'sports', 'car', 'looked', 'to', 'be', 'from', 'the', 'late', 'early', 'it', 'was', 'called', 'bricklin', 'the', 'doors', 'were', 'really', 'small', 'in', 'addition', 'the', 'front', 'bumper', 'was', 'separate', 'from', 'the', 'rest', 'of', 'the', 'body', 'this', 'is', 'all', 'know', 'if', 'anyone', 'can', 'tellme', 'model', 'name', 'engine', 'specs', 'years', 'of', 'production', 'where', 'this', 'car', 'is', 'made', 'history', 'or', 'whatever', 'info', 'you', 'have', 'on', 'this', 'funky', 'looking', 'car', 'please', 'mail', 'thanks', 'il', 'brought', 'to', 'you', 'by', 'your', 'neighborhood', 'lerxst']]\n"
     ]
    }
   ],
   "source": [
    "def sent_to_words(sentences):\n",
    "    for sentence in sentences:\n",
    "        yield(gensim.utils.simple_preprocess(str(sentence), deacc=True))  # deacc=True removes punctuations\n",
    "\n",
    "data_words = list(sent_to_words(data))\n",
    "\n",
    "print(data_words[:1])"
   ]
  },
  {
   "cell_type": "code",
   "execution_count": 10,
   "metadata": {},
   "outputs": [
    {
     "name": "stdout",
     "output_type": "stream",
     "text": [
      "['from', 'wheres', 'my', 'thing', 'subject', 'what', 'car', 'is', 'this', 'nntp_posting_host', 'rac_wam_umd_edu', 'organization', 'university', 'of', 'maryland_college_park', 'lines', 'was', 'wondering', 'if', 'anyone', 'out', 'there', 'could', 'enlighten', 'me', 'on', 'this', 'car', 'saw', 'the', 'other', 'day', 'it', 'was', 'door', 'sports', 'car', 'looked', 'to', 'be', 'from', 'the', 'late', 'early', 'it', 'was', 'called', 'bricklin', 'the', 'doors', 'were', 'really', 'small', 'in', 'addition', 'the', 'front_bumper', 'was', 'separate', 'from', 'the', 'rest', 'of', 'the', 'body', 'this', 'is', 'all', 'know', 'if', 'anyone', 'can', 'tellme', 'model', 'name', 'engine', 'specs', 'years', 'of', 'production', 'where', 'this', 'car', 'is', 'made', 'history', 'or', 'whatever', 'info', 'you', 'have', 'on', 'this', 'funky', 'looking', 'car', 'please', 'mail', 'thanks', 'il', 'brought', 'to', 'you', 'by', 'your', 'neighborhood', 'lerxst']\n"
     ]
    }
   ],
   "source": [
    "# Build the bigram and trigram models\n",
    "bigram = gensim.models.Phrases(data_words, min_count=5, threshold=100) # higher threshold fewer phrases.\n",
    "trigram = gensim.models.Phrases(bigram[data_words], threshold=100)  \n",
    "\n",
    "# Faster way to get a sentence clubbed as a trigram/bigram\n",
    "bigram_mod = gensim.models.phrases.Phraser(bigram)\n",
    "trigram_mod = gensim.models.phrases.Phraser(trigram)\n",
    "\n",
    "# See trigram example\n",
    "print(trigram_mod[bigram_mod[data_words[0]]])"
   ]
  },
  {
   "cell_type": "code",
   "execution_count": 12,
   "metadata": {},
   "outputs": [],
   "source": [
    "# Define functions for stopwords, bigrams, trigrams and lemmatization\n",
    "def remove_stopwords(texts):\n",
    "    return [[word for word in simple_preprocess(str(doc)) if word not in stop_words] for doc in texts]\n",
    "\n",
    "def make_bigrams(texts):\n",
    "    return [bigram_mod[doc] for doc in texts]\n",
    "\n",
    "def make_trigrams(texts):\n",
    "    return [trigram_mod[bigram_mod[doc]] for doc in texts]\n",
    "\n",
    "def lemmatization(texts, allowed_postags=['NOUN', 'ADJ', 'VERB', 'ADV']):\n",
    "    \"\"\"https://spacy.io/api/annotation\"\"\"\n",
    "    texts_out = []\n",
    "    for sent in texts:\n",
    "        doc = nlp(\" \".join(sent)) \n",
    "        texts_out.append([token.lemma_ for token in doc if token.pos_ in allowed_postags])\n",
    "    return texts_out"
   ]
  },
  {
   "cell_type": "code",
   "execution_count": 15,
   "metadata": {},
   "outputs": [
    {
     "name": "stdout",
     "output_type": "stream",
     "text": [
      "[['where', 's', 'thing', 'car', 'nntp_poste', 'host', 'rac_wam', 'umd', 'organization', 'university', 'park', 'line', 'wonder', 'enlighten', 'car', 'saw', 'day', 'door', 'sport', 'car', 'look', 'late', 'early', 'call', 'bricklin', 'door', 'really', 'small', 'addition', 'separate', 'rest', 'body', 'know', 'tellme', 'model', 'name', 'engine', 'spec', 'year', 'production', 'car', 'make', 'history', 'info', 'funky', 'look', 'car', 'mail', 'thank', 'bring', 'neighborhood', 'lerxst']]\n"
     ]
    }
   ],
   "source": [
    "# Remove Stop Words\n",
    "data_words_nostops = remove_stopwords(data_words)\n",
    "\n",
    "# Form Bigrams\n",
    "data_words_bigrams = make_bigrams(data_words_nostops)\n",
    "\n",
    "# Initialize spacy 'en' model, keeping only tagger component (for efficiency)\n",
    "# !python -m spacy download en\n",
    "nlp = spacy.load('en_core_web_sm', disable=['parser', 'ner'])\n",
    "\n",
    "# Do lemmatization keeping only noun, adj, vb, adv\n",
    "data_lemmatized = lemmatization(data_words_bigrams, allowed_postags=['NOUN', 'ADJ', 'VERB', 'ADV'])\n",
    "\n",
    "print(data_lemmatized[:1])"
   ]
  },
  {
   "cell_type": "code",
   "execution_count": 16,
   "metadata": {},
   "outputs": [
    {
     "name": "stdout",
     "output_type": "stream",
     "text": [
      "[[(0, 1), (1, 1), (2, 1), (3, 1), (4, 1), (5, 5), (6, 1), (7, 2), (8, 1), (9, 1), (10, 1), (11, 1), (12, 1), (13, 1), (14, 1), (15, 1), (16, 1), (17, 1), (18, 1), (19, 2), (20, 1), (21, 1), (22, 1), (23, 1), (24, 1), (25, 1), (26, 1), (27, 1), (28, 1), (29, 1), (30, 1), (31, 1), (32, 1), (33, 1), (34, 1), (35, 1), (36, 1), (37, 1), (38, 1), (39, 1), (40, 1), (41, 1), (42, 1), (43, 1), (44, 1), (45, 1)]]\n"
     ]
    }
   ],
   "source": [
    "# Create Dictionary\n",
    "id2word = corpora.Dictionary(data_lemmatized)\n",
    "\n",
    "# Create Corpus\n",
    "texts = data_lemmatized\n",
    "\n",
    "# Term Document Frequency\n",
    "corpus = [id2word.doc2bow(text) for text in texts]\n",
    "\n",
    "# View\n",
    "print(corpus[:1])"
   ]
  },
  {
   "cell_type": "code",
   "execution_count": 18,
   "metadata": {},
   "outputs": [
    {
     "data": {
      "text/plain": [
       "'bring'"
      ]
     },
     "execution_count": 18,
     "metadata": {},
     "output_type": "execute_result"
    }
   ],
   "source": [
    "id2word[0]\n",
    "id2word[3]"
   ]
  },
  {
   "cell_type": "code",
   "execution_count": 20,
   "metadata": {},
   "outputs": [
    {
     "data": {
      "text/plain": [
       "[[('id: 0', 'addition', 1),\n",
       "  ('id: 1', 'body', 1),\n",
       "  ('id: 2', 'bricklin', 1),\n",
       "  ('id: 3', 'bring', 1),\n",
       "  ('id: 4', 'call', 1),\n",
       "  ('id: 5', 'car', 5),\n",
       "  ('id: 6', 'day', 1),\n",
       "  ('id: 7', 'door', 2),\n",
       "  ('id: 8', 'early', 1),\n",
       "  ('id: 9', 'engine', 1),\n",
       "  ('id: 10', 'enlighten', 1),\n",
       "  ('id: 11', 'funky', 1),\n",
       "  ('id: 12', 'history', 1),\n",
       "  ('id: 13', 'host', 1),\n",
       "  ('id: 14', 'info', 1),\n",
       "  ('id: 15', 'know', 1),\n",
       "  ('id: 16', 'late', 1),\n",
       "  ('id: 17', 'lerxst', 1),\n",
       "  ('id: 18', 'line', 1),\n",
       "  ('id: 19', 'look', 2),\n",
       "  ('id: 20', 'mail', 1),\n",
       "  ('id: 21', 'make', 1),\n",
       "  ('id: 22', 'model', 1),\n",
       "  ('id: 23', 'name', 1),\n",
       "  ('id: 24', 'neighborhood', 1),\n",
       "  ('id: 25', 'nntp_poste', 1),\n",
       "  ('id: 26', 'organization', 1),\n",
       "  ('id: 27', 'park', 1),\n",
       "  ('id: 28', 'production', 1),\n",
       "  ('id: 29', 'rac_wam', 1),\n",
       "  ('id: 30', 'really', 1),\n",
       "  ('id: 31', 'rest', 1),\n",
       "  ('id: 32', 's', 1),\n",
       "  ('id: 33', 'saw', 1),\n",
       "  ('id: 34', 'separate', 1),\n",
       "  ('id: 35', 'small', 1),\n",
       "  ('id: 36', 'spec', 1),\n",
       "  ('id: 37', 'sport', 1),\n",
       "  ('id: 38', 'tellme', 1),\n",
       "  ('id: 39', 'thank', 1),\n",
       "  ('id: 40', 'thing', 1),\n",
       "  ('id: 41', 'umd', 1),\n",
       "  ('id: 42', 'university', 1),\n",
       "  ('id: 43', 'where', 1),\n",
       "  ('id: 44', 'wonder', 1),\n",
       "  ('id: 45', 'year', 1)]]"
      ]
     },
     "execution_count": 20,
     "metadata": {},
     "output_type": "execute_result"
    }
   ],
   "source": [
    "# Human readable format of corpus (term-frequency)\n",
    "[[(f'id: {id}', id2word[id], freq) for id, freq in cp] for cp in corpus[:1]]"
   ]
  },
  {
   "cell_type": "code",
   "execution_count": 21,
   "metadata": {},
   "outputs": [],
   "source": [
    "# Build LDA model\n",
    "lda_model = gensim.models.ldamodel.LdaModel(corpus=corpus,\n",
    "                                           id2word=id2word,\n",
    "                                           num_topics=20, \n",
    "                                           random_state=100,\n",
    "                                           update_every=1,\n",
    "                                           chunksize=100,\n",
    "                                           passes=10,\n",
    "                                           alpha='auto',\n",
    "                                           per_word_topics=True)"
   ]
  },
  {
   "cell_type": "code",
   "execution_count": 22,
   "metadata": {},
   "outputs": [
    {
     "name": "stdout",
     "output_type": "stream",
     "text": [
      "[(0,\n",
      "  '0.538*\"ax\" + 0.083*\"_\" + 0.043*\"max\" + 0.023*\"internet\" + 0.011*\"family\" + '\n",
      "  '0.007*\"iran\" + 0.007*\"fbi\" + 0.006*\"ai\" + 0.006*\"intel\" + 0.006*\"mr\"'),\n",
      " (1,\n",
      "  '0.067*\"proof\" + 0.059*\"gateway\" + 0.055*\"michigan\" + 0.015*\"cooperation\" + '\n",
      "  '0.009*\"n\" + 0.008*\"cord\" + 0.006*\"wipe\" + 0.005*\"in\" + 0.005*\"declaration\" '\n",
      "  '+ 0.005*\"bk\"'),\n",
      " (2,\n",
      "  '0.027*\"do\" + 0.016*\"say\" + 0.016*\"make\" + 0.015*\"think\" + 0.014*\"go\" + '\n",
      "  '0.014*\"know\" + 0.013*\"time\" + 0.012*\"well\" + 0.012*\"see\" + 0.012*\"people\"'),\n",
      " (3,\n",
      "  '0.029*\"state\" + 0.025*\"law\" + 0.020*\"people\" + 0.020*\"issue\" + '\n",
      "  '0.019*\"government\" + 0.018*\"right\" + 0.016*\"public\" + 0.015*\"child\" + '\n",
      "  '0.013*\"accept\" + 0.012*\"person\"'),\n",
      " (4,\n",
      "  '0.139*\"physical\" + 0.056*\"direct\" + 0.056*\"robert\" + 0.032*\"rob\" + '\n",
      "  '0.026*\"adam\" + 0.025*\"daughter\" + 0.020*\"human_being\" + 0.013*\"ho\" + '\n",
      "  '0.010*\"cmu\" + 0.009*\"sister\"'),\n",
      " (5,\n",
      "  '0.061*\"season\" + 0.047*\"nhl\" + 0.047*\"goal\" + 0.044*\"scott\" + 0.043*\"wing\" '\n",
      "  '+ 0.034*\"pen\" + 0.030*\"van\" + 0.029*\"islam\" + 0.028*\"pittsburgh\" + '\n",
      "  '0.023*\"muslim\"'),\n",
      " (6,\n",
      "  '0.033*\"israel\" + 0.020*\"american\" + 0.018*\"israeli\" + 0.017*\"discussion\" + '\n",
      "  '0.017*\"patient\" + 0.017*\"report\" + 0.016*\"pin\" + 0.015*\"security\" + '\n",
      "  '0.014*\"encryption\" + 0.014*\"attack\"'),\n",
      " (7,\n",
      "  '0.047*\"window\" + 0.044*\"file\" + 0.038*\"program\" + 0.028*\"com\" + '\n",
      "  '0.025*\"driver\" + 0.025*\"email\" + 0.020*\"image\" + 0.019*\"entry\" + '\n",
      "  '0.018*\"advance\" + 0.017*\"problem\"'),\n",
      " (8,\n",
      "  '0.076*\"line\" + 0.070*\"organization\" + 0.048*\"write\" + 0.043*\"article\" + '\n",
      "  '0.029*\"nntp_poste\" + 0.028*\"university\" + 0.026*\"host\" + 0.019*\"get\" + '\n",
      "  '0.017*\"reply\" + 0.015*\"m\"'),\n",
      " (9,\n",
      "  '0.092*\"space\" + 0.027*\"earth\" + 0.024*\"launch\" + 0.022*\"moon\" + '\n",
      "  '0.021*\"nasa\" + 0.021*\"mission\" + 0.020*\"orbit\" + 0.017*\"satellite\" + '\n",
      "  '0.015*\"research\" + 0.015*\"plane\"'),\n",
      " (10,\n",
      "  '0.075*\"team\" + 0.074*\"game\" + 0.045*\"play\" + 0.041*\"win\" + 0.039*\"year\" + '\n",
      "  '0.022*\"fan\" + 0.019*\"trade\" + 0.018*\"score\" + 0.017*\"mike\" + 0.017*\"run\"'),\n",
      " (11,\n",
      "  '0.090*\"gun\" + 0.038*\"president\" + 0.029*\"police\" + 0.029*\"weapon\" + '\n",
      "  '0.028*\"firearm\" + 0.024*\"rsa\" + 0.024*\"clipper_chip\" + 0.022*\"trust\" + '\n",
      "  '0.020*\"arm\" + 0.020*\"cop\"'),\n",
      " (12,\n",
      "  '0.038*\"armenian\" + 0.032*\"soldier\" + 0.031*\"greek\" + 0.029*\"kill\" + '\n",
      "  '0.028*\"village\" + 0.024*\"turk\" + 0.020*\"father\" + 0.019*\"turkish\" + '\n",
      "  '0.017*\"terrorism\" + 0.016*\"occupy\"'),\n",
      " (13,\n",
      "  '0.054*\"md\" + 0.041*\"zone\" + 0.035*\"russia\" + 0.024*\"rs\" + '\n",
      "  '0.020*\"correction\" + 0.018*\"rom\" + 0.017*\"cd_rom\" + 0.011*\"television\" + '\n",
      "  '0.008*\"tc\" + 0.005*\"soviet_union\"'),\n",
      " (14,\n",
      "  '0.027*\"system\" + 0.022*\"use\" + 0.017*\"drive\" + 0.011*\"computer\" + '\n",
      "  '0.011*\"also\" + 0.010*\"information\" + 0.010*\"include\" + 0.010*\"card\" + '\n",
      "  '0.009*\"bit\" + 0.009*\"work\"'),\n",
      " (15,\n",
      "  '0.057*\"god\" + 0.038*\"evidence\" + 0.031*\"christian\" + 0.026*\"reason\" + '\n",
      "  '0.024*\"believe\" + 0.019*\"faith\" + 0.018*\"sense\" + 0.017*\"exist\" + '\n",
      "  '0.016*\"bible\" + 0.016*\"claim\"'),\n",
      " (16,\n",
      "  '0.068*\"cool\" + 0.035*\"cycle\" + 0.030*\"ticket\" + 0.027*\"nuclear\" + '\n",
      "  '0.023*\"heat\" + 0.022*\"water\" + 0.017*\"custom\" + 0.015*\"netcom\" + '\n",
      "  '0.014*\"thermal\" + 0.014*\"hot\"'),\n",
      " (17,\n",
      "  '0.090*\"car\" + 0.037*\"bike\" + 0.024*\"engine\" + 0.022*\"notice\" + 0.021*\"ride\" '\n",
      "  '+ 0.018*\"sc\" + 0.017*\"drive\" + 0.016*\"mile\" + 0.015*\"insurance\" + '\n",
      "  '0.014*\"road\"'),\n",
      " (18,\n",
      "  '0.246*\"key\" + 0.132*\"chip\" + 0.042*\"algorithm\" + 0.031*\"nsa\" + '\n",
      "  '0.030*\"secure\" + 0.022*\"bit\" + 0.020*\"secret\" + 0.015*\"please_respond\" + '\n",
      "  '0.015*\"agency\" + 0.006*\"phone\"'),\n",
      " (19,\n",
      "  '0.042*\"solution\" + 0.041*\"video\" + 0.028*\"mouse\" + 0.023*\"period\" + '\n",
      "  '0.022*\"dr\" + 0.021*\"mhz\" + 0.021*\"corp\" + 0.018*\"processor\" + '\n",
      "  '0.017*\"generate\" + 0.017*\"manager\"')]\n"
     ]
    }
   ],
   "source": [
    "# Print the Keyword in the 10 topics\n",
    "pprint(lda_model.print_topics())\n",
    "doc_lda = lda_model[corpus]"
   ]
  },
  {
   "cell_type": "markdown",
   "metadata": {},
   "source": [
    "## Topic Coherence Score:"
   ]
  },
  {
   "cell_type": "code",
   "execution_count": 23,
   "metadata": {},
   "outputs": [
    {
     "name": "stdout",
     "output_type": "stream",
     "text": [
      "\n",
      "Perplexity:  -14.273586566239727\n",
      "\n",
      "Coherence Score:  0.5137725268806684\n"
     ]
    }
   ],
   "source": [
    "# Compute Perplexity\n",
    "print('\\nPerplexity: ', lda_model.log_perplexity(corpus))  # a measure of how good the model is. lower the better.\n",
    "\n",
    "# Compute Coherence Score\n",
    "coherence_model_lda = CoherenceModel(model=lda_model, texts=data_lemmatized, dictionary=id2word, coherence='c_v')\n",
    "coherence_lda = coherence_model_lda.get_coherence()\n",
    "print('\\nCoherence Score: ', coherence_lda)"
   ]
  },
  {
   "cell_type": "code",
   "execution_count": 25,
   "metadata": {},
   "outputs": [
    {
     "name": "stderr",
     "output_type": "stream",
     "text": [
      "C:\\Users\\natha\\AppData\\Roaming\\Python\\Python38\\site-packages\\pyLDAvis\\_prepare.py:246: FutureWarning: In a future version of pandas all arguments of DataFrame.drop except for the argument 'labels' will be keyword-only\n",
      "  default_term_info = default_term_info.sort_values(\n"
     ]
    },
    {
     "data": {
      "text/html": [
       "\n",
       "<link rel=\"stylesheet\" type=\"text/css\" href=\"https://cdn.jsdelivr.net/gh/bmabey/pyLDAvis@3.3.1/pyLDAvis/js/ldavis.v1.0.0.css\">\n",
       "\n",
       "\n",
       "<div id=\"ldavis_el529616035626058082378130069\"></div>\n",
       "<script type=\"text/javascript\">\n",
       "\n",
       "var ldavis_el529616035626058082378130069_data = {\"mdsDat\": {\"x\": [0.35818929429418306, 0.28208487309706415, 0.294960071361478, 0.0035126040819805815, 0.18689437465404252, 0.0945032134925634, 0.18757979515989465, 0.08053305534822615, 0.011231495329726598, -0.06953663656642521, -0.04927143723904529, -0.10539297457992283, -0.056588225458625456, -0.1075639693657653, -0.16092272225971027, -0.15999501854407294, -0.19049544949606764, -0.19126558109894856, -0.20429063173579212, -0.2041661304747836], \"y\": [0.01746323564593627, -0.22094397899978918, -0.08182888719154097, -0.05085086807466573, 0.22552447858252048, -0.16600848897323775, 0.24503193136689838, 0.11189230078572031, -0.10031714318208687, -0.050277985836934005, 0.1107855292016793, -0.013312730414595327, -0.04593950228441672, 0.02052253182917764, 0.00043393991591318047, -0.002578353887592693, -0.001131263965903336, -8.194681616287435e-05, 0.0008128417494385763, 0.0008043605496417148], \"topics\": [1, 2, 3, 4, 5, 6, 7, 8, 9, 10, 11, 12, 13, 14, 15, 16, 17, 18, 19, 20], \"cluster\": [1, 1, 1, 1, 1, 1, 1, 1, 1, 1, 1, 1, 1, 1, 1, 1, 1, 1, 1, 1], \"Freq\": [35.05637843875207, 16.038017249221447, 14.324550152436592, 6.009608886217093, 5.584452767484349, 4.229497384878882, 4.1609199449638705, 3.8499177096395436, 2.105075416348341, 1.5780727893992672, 1.4565498194310336, 1.3864391618512721, 1.2526539203711085, 1.13726111661136, 0.6158038337492991, 0.44035954366022073, 0.27314193754521476, 0.24498969395067408, 0.15089477350312733, 0.10541545998523998]}, \"tinfo\": {\"Term\": [\"ax\", \"line\", \"organization\", \"_\", \"write\", \"article\", \"year\", \"nntp_poste\", \"do\", \"university\", \"people\", \"host\", \"god\", \"say\", \"system\", \"max\", \"drive\", \"window\", \"team\", \"game\", \"key\", \"car\", \"file\", \"bit\", \"reason\", \"believe\", \"use\", \"state\", \"think\", \"right\", \"think\", \"see\", \"come\", \"take\", \"thing\", \"even\", \"tell\", \"seem\", \"be\", \"never\", \"keep\", \"course\", \"re\", \"far\", \"show\", \"let\", \"talk\", \"happen\", \"enough\", \"cause\", \"actually\", \"maybe\", \"put\", \"hand\", \"kind\", \"remember\", \"feel\", \"always\", \"player\", \"hope\", \"well\", \"give\", \"s\", \"go\", \"way\", \"do\", \"point\", \"make\", \"bad\", \"still\", \"time\", \"say\", \"know\", \"much\", \"try\", \"people\", \"day\", \"first\", \"many\", \"back\", \"good\", \"get\", \"year\", \"also\", \"find\", \"want\", \"organization\", \"nntp_poste\", \"host\", \"buy\", \"university\", \"mark\", \"wire\", \"steve\", \"sorry\", \"publish\", \"originator\", \"corporation\", \"brain\", \"serious\", \"hour\", \"michael\", \"apr\", \"advice\", \"kid\", \"eat\", \"half\", \"univ\", \"treatment\", \"texas\", \"blue\", \"doctor\", \"tom\", \"sport\", \"student\", \"catch\", \"line\", \"reply\", \"version_pl\", \"article\", \"news\", \"sale\", \"usa\", \"cheap\", \"month\", \"i\", \"write\", \"sell\", \"wonder\", \"thank\", \"david\", \"phone\", \"keyword\", \"d\", \"price\", \"interested\", \"m\", \"get\", \"new\", \"look\", \"help\", \"post\", \"net\", \"need\", \"good\", \"want\", \"question\", \"know\", \"state\", \"mail\", \"system\", \"computer\", \"card\", \"software\", \"available\", \"mac\", \"datum\", \"machine\", \"cpu\", \"memory\", \"color\", \"hardware\", \"disk\", \"board\", \"network\", \"compare\", \"scsi\", \"access\", \"slow\", \"section\", \"device\", \"server\", \"tape\", \"pc\", \"monitor\", \"scan\", \"size\", \"package\", \"newsgroup\", \"apple\", \"copy\", \"user\", \"address\", \"info\", \"drive\", \"information\", \"include\", \"use\", \"source\", \"bit\", \"technology\", \"type\", \"support\", \"mail\", \"message\", \"also\", \"send\", \"list\", \"work\", \"number\", \"need\", \"run\", \"new\", \"ax\", \"_\", \"max\", \"internet\", \"family\", \"iran\", \"fbi\", \"ai\", \"intel\", \"motto\", \"german\", \"mu\", \"sunday\", \"el\", \"honda\", \"violence\", \"koresh\", \"gun_control\", \"travel\", \"progress\", \"arizona\", \"caltech\", \"hitler\", \"movie\", \"film\", \"fi\", \"adobe\", \"schneider\", \"punishment\", \"campaign\", \"mr\", \"law\", \"accept\", \"member\", \"pa\", \"society\", \"community\", \"logic\", \"revelation\", \"clinton\", \"meet\", \"respect\", \"legal\", \"willing\", \"criminal\", \"wife\", \"court\", \"freedom\", \"fear\", \"party\", \"northern\", \"aware\", \"tax\", \"protection\", \"federal\", \"congress\", \"propose\", \"property\", \"commit\", \"dangerous\", \"homosexual\", \"deny\", \"issue\", \"child\", \"state\", \"public\", \"government\", \"rule\", \"citizen\", \"act\", \"private\", \"approach\", \"person\", \"right\", \"action\", \"people\", \"force\", \"free\", \"case\", \"purpose\", \"provide\", \"fact\", \"support\", \"allow\", \"group\", \"window\", \"file\", \"com\", \"email\", \"entry\", \"advance\", \"graphic\", \"screen\", \"sun\", \"display\", \"input\", \"format\", \"telnet\", \"update\", \"printer\", \"convert\", \"directory\", \"circuit\", \"door\", \"hp\", \"cub\", \"output\", \"resolution\", \"ps\", \"compile\", \"map\", \"jason\", \"serial\", \"microsoft\", \"button\", \"ms\", \"image\", \"driver\", \"program\", \"dept\", \"laboratory\", \"error\", \"value\", \"switch\", \"mit\", \"problem\", \"run\", \"set\", \"application\", \"help\", \"try\", \"thank\", \"god\", \"christian\", \"faith\", \"bible\", \"religion\", \"truth\", \"belief\", \"atheist\", \"church\", \"christianity\", \"christ\", \"authority\", \"obviously\", \"lord\", \"atheism\", \"universe\", \"interpretation\", \"false\", \"gift\", \"club\", \"scripture\", \"holy\", \"tradition\", \"sabbath\", \"trap\", \"origin\", \"interpret\", \"biblical\", \"stephen\", \"passage\", \"conclusion\", \"evidence\", \"religious\", \"reject\", \"moral\", \"sense\", \"exist\", \"reason\", \"believe\", \"claim\", \"argument\", \"book\", \"science\", \"reality\", \"prove\", \"word\", \"explain\", \"man\", \"true\", \"say\", \"life\", \"question\", \"israel\", \"american\", \"israeli\", \"discussion\", \"patient\", \"pin\", \"security\", \"encryption\", \"master\", \"drug\", \"clipper\", \"arab\", \"disease\", \"health\", \"tap\", \"route\", \"trial\", \"bomb\", \"withdraw\", \"step\", \"fight\", \"march\", \"stupid\", \"hate\", \"workstation\", \"administration\", \"europe\", \"minority\", \"cambridge\", \"proposal\", \"policy\", \"official\", \"land\", \"country\", \"attack\", \"war\", \"report\", \"national\", \"material\", \"center\", \"april\", \"city\", \"government\", \"public\", \"team\", \"game\", \"fan\", \"trade\", \"score\", \"mike\", \"baseball\", \"toronto\", \"stat\", \"ice\", \"joseph\", \"detroit\", \"devil\", \"finish\", \"tie\", \"expansion\", \"san_jose\", \"pitch\", \"urbana\", \"minnesota\", \"hitter\", \"cbr\", \"tip\", \"era\", \"athlete\", \"starter\", \"consistently\", \"flyer\", \"fame\", \"met\", \"play\", \"boston\", \"win\", \"hall\", \"star\", \"division\", \"year\", \"final\", \"defense\", \"hit\", \"lose\", \"run\", \"last\", \"first\", \"series\", \"next\", \"pick\", \"car\", \"bike\", \"engine\", \"notice\", \"ride\", \"sc\", \"mile\", \"insurance\", \"pack\", \"dod\", \"dog\", \"rider\", \"brown\", \"battery\", \"canadian\", \"ltd\", \"prize\", \"probe\", \"floor\", \"widget\", \"relation\", \"uunet\", \"cylinder\", \"amp\", \"dale\", \"essentially\", \"up\", \"pop\", \"motor\", \"crack\", \"auto\", \"vehicle\", \"air\", \"road\", \"drive\", \"model\", \"power\", \"speed\", \"armenian\", \"soldier\", \"village\", \"turk\", \"father\", \"turkish\", \"terrorism\", \"occupy\", \"turkey\", \"hide\", \"girl\", \"escape\", \"armenia\", \"proceed\", \"massacre\", \"genocide\", \"soviet\", \"nazi\", \"slaughter\", \"vol\", \"wwii\", \"kurd\", \"occupation\", \"bury\", \"republic\", \"scholar\", \"holocaust\", \"serdar_argic\", \"mountain\", \"longer_exist\", \"greek\", \"troop\", \"son\", \"army\", \"kill\", \"murder\", \"death\", \"muslim\", \"woman\", \"jew\", \"force\", \"child\", \"people\", \"lie\", \"man\", \"solution\", \"video\", \"mouse\", \"period\", \"dr\", \"mhz\", \"corp\", \"processor\", \"generate\", \"font\", \"modem\", \"status\", \"united_state\", \"helmet\", \"edition\", \"ed\", \"frame\", \"employer\", \"conference\", \"australia\", \"pt\", \"min\", \"shell\", \"default\", \"routine\", \"charle\", \"immediate\", \"locate\", \"milwaukee\", \"advanced\", \"manager\", \"rd\", \"remind\", \"launch\", \"moon\", \"nasa\", \"mission\", \"orbit\", \"satellite\", \"plane\", \"mar\", \"pat\", \"rocket\", \"flight\", \"sci\", \"astronomy\", \"shuttle\", \"collin\", \"sky\", \"spacecraft\", \"lunar\", \"montreal\", \"venus\", \"environmental\", \"radius\", \"solar\", \"giant\", \"space_station\", \"ozone\", \"hill\", \"apollo\", \"crew\", \"planetary\", \"space\", \"earth\", \"journal\", \"project\", \"research\", \"planet\", \"science\", \"russian\", \"gun\", \"president\", \"police\", \"weapon\", \"firearm\", \"rsa\", \"clipper_chip\", \"trust\", \"arm\", \"cop\", \"announcement\", \"crypto\", \"militia\", \"super\", \"export\", \"factory\", \"officer\", \"moslem\", \"ammunition\", \"london\", \"disarm\", \"render\", \"revolver\", \"trigger\", \"employment\", \"engage\", \"bullet\", \"ruin\", \"pistol\", \"bureau\", \"safety\", \"session\", \"fire\", \"tank\", \"shoot\", \"carry\", \"crime\", \"kill\", \"season\", \"nhl\", \"scott\", \"pen\", \"van\", \"islam\", \"pittsburgh\", \"gary\", \"captain\", \"penguin\", \"leafs\", \"rick\", \"penalty\", \"buffalo\", \"quran\", \"suitable\", \"july\", \"rushdie\", \"pp\", \"lemieux\", \"democracy\", \"tolerance\", \"gretzky\", \"sabre\", \"tim_clock\", \"triangle\", \"team_captain\", \"hostility\", \"wing\", \"bristol\", \"islamic\", \"goal\", \"muslim\", \"chicago\", \"key\", \"nsa\", \"please_respond\", \"chip\", \"online_communication\", \"access_digex\", \"imprison\", \"greenbelt_md\", \"express_access\", \"birthday\", \"algorithm\", \"conjecture\", \"secure\", \"secret\", \"agency\", \"bit\", \"register\", \"phone\", \"ripem\", \"encrypt\", \"law_enforcement\", \"protocol\", \"pem\", \"patent\", \"decrypt\", \"xor\", \"encrypted\", \"escrow\", \"plaintext\", \"transmit\", \"random\", \"cool\", \"cycle\", \"ticket\", \"nuclear\", \"heat\", \"custom\", \"netcom\", \"thermal\", \"jim_frost\", \"runner\", \"payment\", \"discount\", \"services_gu\", \"organisation\", \"timing\", \"dean\", \"buying\", \"tail\", \"stratus_computer\", \"priority\", \"reactor\", \"designer\", \"steam\", \"bridge\", \"octopus\", \"squad\", \"marlboro\", \"centerline_software\", \"pinch\", \"boulevard\", \"water\", \"hot\", \"plant\", \"physical\", \"direct\", \"robert\", \"rob\", \"adam\", \"daughter\", \"human_being\", \"ho\", \"cmu\", \"sister\", \"po_andrew\", \"eve\", \"genesis\", \"york\", \"stuart\", \"honesty\", \"valid\", \"mark_baker\", \"blindly\", \"existence\", \"sphere\", \"explanatory\", \"jungle\", \"physical_universe\", \"irrigate_desert\", \"inconclusive\", \"hinduism\", \"blindness\", \"sift\", \"provocative\", \"c\", \"cx\", \"reveal\", \"possess\", \"visible\", \"mc\", \"believer\", \"choose\", \"consistent\", \"qs\", \"ability\", \"md\", \"zone\", \"russia\", \"rs\", \"correction\", \"rom\", \"cd_rom\", \"television\", \"tc\", \"soviet_union\", \"toshiba\", \"cx\", \"c\", \"mc\", \"qs\", \"ei\", \"rlk\", \"sy\", \"gc\", \"od\", \"cj\", \"eg\", \"zd\", \"sp\", \"lk\", \"mp\", \"ecs\", \"bn\", \"sq\", \"ucs\", \"ripem\", \"os\", \"proof\", \"gateway\", \"michigan\", \"cooperation\", \"n\", \"cord\", \"wipe\", \"in\", \"declaration\", \"bk\", \"qwk\", \"berlin\", \"localtalk\", \"ethernet\", \"chuang\", \"css\", \"slip\", \"telepath\", \"itd_umich\", \"hong\", \"referal\", \"mac_iisi\", \"stimpy\", \"ip\", \"benjamin\", \"hash\", \"ethernet_card\", \"ben\", \"consultant\", \"consulting\", \"connected\", \"connect\", \"connection\", \"laugh\"], \"Freq\": [49570.0, 18756.0, 17206.0, 7674.0, 14416.0, 10952.0, 5104.0, 7194.0, 14622.0, 6967.0, 8426.0, 6454.0, 3654.0, 9333.0, 5859.0, 3973.0, 4098.0, 3063.0, 2419.0, 2396.0, 1662.0, 2174.0, 2853.0, 2396.0, 3301.0, 3373.0, 6540.0, 3664.0, 7964.0, 4102.0, 7963.026280453799, 6495.325468684256, 5077.615971165103, 4967.3431188045115, 4911.24875813841, 4354.408725545938, 3548.87042759651, 3280.251280072613, 2956.7099713069756, 2653.702803002042, 2296.5201467167108, 2182.6082947337923, 2343.1575638739946, 2122.037899451755, 2073.2410621719073, 2282.264269327079, 1985.3095849173094, 1949.673646085845, 1784.212803786382, 1681.6812735691228, 1615.306576268764, 1535.0776231838101, 2080.3587381769094, 1499.8123927331867, 1496.3245800534837, 1348.425703120796, 1309.217472150794, 1248.9052711259058, 1234.2978340327686, 1182.7151770874443, 6647.480608485155, 4414.282259158656, 4460.452348465143, 7754.001821751089, 4724.349156817569, 14368.88312119693, 4160.9670349329535, 8425.859573731312, 2277.375224023508, 2790.387313372647, 6803.64170164661, 8627.117429030417, 7575.815494391813, 3554.2453236544447, 3873.767913274637, 6346.108962503257, 2758.2435676372697, 3427.142160617963, 3426.347177621642, 2661.494437356412, 4397.218159402612, 5690.503306236236, 3486.9881601848388, 3543.0557377336204, 2999.8770974500926, 3031.1532704319284, 17205.308280031968, 7193.640024772967, 6453.2717946909615, 1797.912554641091, 6961.5628436465, 1117.63644915596, 762.0842119172012, 723.8871700366379, 698.8375528113273, 687.5145752391464, 650.7513710391721, 648.9213699965516, 642.009782253497, 615.764288748465, 586.652150513924, 569.1609569184827, 566.9357658881845, 556.9227211670744, 541.9566324175582, 524.5373540096747, 515.9428592660661, 490.4015734774132, 454.25812245428955, 423.5783075655002, 421.99548635145175, 406.40517835451993, 382.4257576026495, 375.3672762181305, 367.92643048447906, 358.62374864110353, 18641.708339978883, 4104.2909075629, 582.8952117944988, 10560.554740503077, 1554.7316914586427, 1464.9610392678956, 1259.7675416787204, 855.6022981130943, 819.4242636717503, 849.22772672681, 11725.620171970375, 1306.3700719062936, 841.2701623545325, 2983.5266058067004, 1021.3033070713138, 1069.045257866083, 1077.552091660527, 2459.6455351408044, 1328.1898039961509, 980.793871269807, 3790.0064220046406, 4607.264355165846, 2394.4461725664055, 2297.700090726452, 1797.1216020925863, 1763.7276473326158, 1037.3453180257636, 2041.6492718369232, 2341.1867923899213, 1860.1127790592225, 1305.0815532910083, 1588.5178588259141, 1181.7527323610586, 1107.2449335831332, 5858.231749516743, 2490.733400098211, 2183.3280016259178, 1797.995777923, 1707.3644303660067, 1664.1936221446183, 1651.2628561610961, 1566.9207140644687, 1269.3636651671914, 1117.8982415895264, 1095.7582745904585, 985.1114207047054, 958.3462437507959, 945.5319748402833, 914.6137130316304, 908.2069876969114, 904.3326162082357, 889.646416279092, 867.6234577537053, 864.6410713165803, 862.3115389769268, 861.367902457536, 834.0298544712064, 820.3912588180068, 811.6377669409984, 809.5582072496638, 763.6919083679653, 758.2902899133734, 735.3038525225346, 693.4589528226209, 1339.7240106198522, 1050.553830458053, 1459.9140101597602, 1397.7557132398313, 3675.64159677993, 2268.5095567850467, 2225.30458699879, 4941.398353009736, 1679.8242768342275, 1964.2928437808355, 1439.3902738434815, 1356.6498386505673, 1483.6416716841372, 1763.0446104174496, 1374.7933116805616, 2395.2544855743276, 1417.4157961017704, 1256.5216783402734, 1884.0366907708265, 1568.0454887017697, 1709.361347708797, 1468.8166776126986, 1536.7121741079784, 49569.87509032225, 7673.60168939839, 3972.0370916253178, 2116.2894421437572, 1051.9495755647122, 690.7915929570331, 654.1446485908405, 579.875205520439, 548.8317663177766, 536.5305989612427, 522.9426095663201, 497.1026274474288, 490.17466834955906, 470.90095861135524, 425.00055845282225, 418.60163429814145, 396.3634580107321, 380.2583367476605, 372.5395070976035, 329.6537350462765, 316.92070199214146, 298.474893964854, 294.3635986047846, 293.04386474861457, 287.8146832388201, 268.60872807724826, 240.56876043339142, 235.65262738073343, 215.6033229796907, 214.72476624805608, 547.993609164292, 2121.8856842211335, 1127.3382467020033, 895.4807884056341, 668.316073343688, 638.662341392966, 611.5500252312233, 577.8428116553561, 551.5379859408115, 509.471685165336, 491.4838395982916, 488.6773407767227, 474.0180257795419, 469.87602364712393, 427.42952330550185, 407.58378381239214, 403.51590763628946, 395.1618445735804, 371.3566864628283, 369.10910293425115, 333.7325999365529, 329.2122324466976, 328.5797494348238, 328.4162656150859, 322.94613688075816, 321.5067615332219, 320.5729100555971, 308.53304446574356, 301.3171477812293, 300.3627412038302, 295.27081833053023, 617.8391680283355, 1674.401122259155, 1318.7639234274568, 2481.7749775819075, 1332.9460251674125, 1588.114362201492, 945.0007551380867, 516.2224504456448, 851.493512874136, 552.5260661976664, 475.6161399286334, 1065.3383239117834, 1578.2196834453162, 596.2101390547043, 1689.6134113080739, 655.7442473540483, 722.7514402982258, 971.5266030020964, 575.6072701056962, 660.3684868805907, 603.4630389062227, 572.3129515156704, 538.7958177858253, 540.7247274882207, 3062.5358208927, 2851.945138646953, 1802.2010835511328, 1632.224315144271, 1238.21810847741, 1163.6031151411066, 1046.1261607800734, 1022.7416381350116, 1008.2950056191416, 919.2875575833494, 788.1936100440271, 684.1471370474759, 544.9622732018287, 509.54441662653954, 492.28153424076135, 449.5589738851588, 425.37205180796525, 415.2462662454688, 398.31844677649536, 381.9546322677965, 343.973838823605, 343.56472685118905, 332.804088414689, 302.3727653069806, 298.53568337066844, 291.50588519933865, 286.37980006537174, 286.3301521667483, 262.1293685412164, 260.63198912671146, 420.4193719257597, 1285.6548032461021, 1644.1619168125544, 2442.8691639774847, 673.5573973082446, 501.2592574467683, 767.1331164053313, 805.4622001261798, 473.70419051953064, 409.9894174855654, 1074.2005374790438, 941.8986722699279, 721.2091725720683, 537.2190129836748, 649.7912139923782, 627.5885166908262, 476.1630902772666, 3653.539006264366, 2006.4842917955796, 1233.6565811800917, 1021.5471825764653, 923.5471652628574, 798.453478502482, 797.3243874468307, 795.2963968285072, 729.6095846163628, 523.28991205634, 484.95126339639177, 479.6312195046349, 409.2270563055579, 391.82507856087835, 339.8538527086849, 323.17617006046163, 309.37956508908127, 285.0462030017894, 280.7822234891554, 275.11873436523007, 256.7367196072684, 230.85281816493713, 201.62855532222557, 171.60447508373483, 164.05156182616025, 158.59134712078998, 156.64043856603584, 152.2668893288138, 150.16710499046138, 149.0115127975181, 560.2528783607236, 2425.4701245207198, 526.39030744113, 271.68906532056786, 367.93311490043135, 1139.8931806577662, 1090.7291739316224, 1634.4811726351809, 1555.0881623583593, 1015.1763329393307, 592.4483138341319, 838.3359669586588, 598.6773883287138, 389.63879415388766, 514.0041749954587, 608.9198402136685, 520.2435290791697, 721.6674433322623, 608.2069239687625, 704.8242474151454, 502.7169484535459, 552.0226709026521, 1952.6152085685976, 1183.3710426849775, 1037.6410171053299, 1013.6330691183526, 1011.0676691252952, 945.50971951916, 862.871589439767, 841.2232574637203, 757.7822784687511, 752.8029438501917, 660.936147129107, 633.4017775066515, 529.3304457536599, 505.5152518787152, 467.4452701635593, 452.57909552846587, 439.79396158038134, 406.3166792034459, 374.860098769094, 374.8536937907563, 366.43675506894573, 349.96881355507014, 347.9359064177145, 345.5274971168729, 297.2167247367902, 281.6581527009731, 273.5091509914244, 267.927858365836, 264.8548432226371, 263.1108748290883, 471.281604785212, 368.80357324435874, 503.5824878146816, 824.9278930056547, 824.9389436549754, 770.0949559246077, 1002.6317903602458, 765.066030829992, 422.3002064329182, 623.5353069705818, 461.27752342700387, 489.15941123033707, 556.6812976276942, 422.720433488058, 2417.8833900095187, 2394.915825031074, 723.3825815988703, 598.5829183968305, 566.1464004045656, 556.7347442542593, 397.40542386290826, 367.06907941504664, 319.5054980450496, 301.28650832954133, 266.8662743213364, 245.96769427454774, 232.1172296661698, 223.98502810999943, 223.54434428488202, 222.876081285983, 216.0011791359059, 213.06312163123215, 165.82991409649827, 163.9403952063814, 140.29611999994623, 135.4037013519561, 132.93721567201155, 127.3780671521104, 127.25343294637783, 115.2271940552149, 108.95202262460633, 108.5229199205112, 95.52960857435133, 92.53530635213644, 1450.267787200427, 437.9205290587327, 1319.7997627265743, 264.99198148650254, 355.43820691891386, 516.6066183470011, 1262.712005709875, 283.8506458917802, 236.59970218208676, 295.38814794821076, 383.01293874163565, 533.5575316755297, 364.5823474404661, 371.04886664677156, 252.91644204121482, 245.93417591000556, 230.64082837669932, 2173.4428785870045, 893.8561741548729, 579.0809398008961, 543.6309654412985, 520.0269153127397, 439.49889677512914, 388.2940793603587, 365.266262134283, 340.2562668230838, 326.8469418251399, 305.72389321918854, 302.59564941295895, 297.89681601323474, 286.2283363607706, 262.94413267667574, 261.08100967265574, 212.9981035867743, 207.82613722703317, 206.49210284579374, 200.62775558281086, 195.01898349961135, 189.7378551461421, 188.61203757767123, 179.0500531322136, 175.10104364192702, 168.20419834309678, 160.60213817004458, 151.85049673686459, 144.3796833539595, 143.62218610454158, 246.00380929944086, 280.0051111559792, 340.05923888931727, 344.1498840382705, 421.42762900168333, 247.38154002788073, 210.57706904709636, 197.2465507155577, 849.3150104023234, 717.4433930466099, 616.8999449387794, 529.5519203703101, 440.8445669970256, 432.6348882834784, 384.4176951191399, 361.5310842138297, 338.59634185340957, 318.8622164571365, 248.4223935067697, 201.23902822200233, 186.75545385508875, 181.88691765051257, 172.52050320594898, 167.96996948687314, 153.26697475697148, 151.1720084530759, 150.07017461305458, 138.88572653241448, 134.02781918417415, 116.48939502571942, 108.1852838116541, 98.37636782171107, 96.91677208545364, 92.90354681425981, 87.19185214071267, 70.99925231549575, 64.4142962134237, 64.17143412618807, 692.3296727370094, 163.81364985724, 357.87434163209184, 155.20186341241163, 636.55446831314, 298.6448628996218, 316.8853947794398, 174.48486561760814, 214.07009623017936, 192.63383541212207, 211.07369474843028, 190.84036670624639, 220.44204360324676, 164.6546503147729, 170.57008726821, 896.5553511795133, 876.0570725639363, 597.6344956828865, 487.10241204359164, 476.0371619873475, 450.86745119240084, 444.4227501368865, 390.237866969372, 367.4891263369595, 352.86834982682984, 304.4486693915157, 303.28263284567515, 302.6322983052937, 289.00316961047577, 250.906834768375, 248.85386680092924, 238.71841278954133, 233.67685993254844, 230.53483355099422, 217.05653289309367, 215.3250397005794, 211.27000674322986, 208.33339397194317, 203.76774732699852, 198.2013651706349, 195.0227702167275, 194.166863674861, 186.51029161492605, 180.55016869062118, 177.78843962241817, 366.26662332206035, 251.51145364358942, 186.5723215755013, 454.58513698845877, 416.89639790941317, 408.2006340597087, 398.98378124091505, 388.9647769785272, 326.6204619950652, 281.51798461512004, 278.7751032248916, 271.7434073926785, 257.88040153778667, 256.73103633209087, 231.75361241078974, 208.95481621160926, 203.71417811853408, 202.90267104394664, 180.95868972553845, 161.19224493710826, 150.69311613196885, 149.74910076563654, 139.96158128884773, 135.94247019004735, 134.26854566648086, 134.06451062420723, 131.33684331459017, 128.9278667200026, 117.79145487098103, 113.96289096403572, 108.98293151847349, 108.85989513229445, 108.68708428485586, 1768.253755303955, 520.7618976607504, 129.55058860971937, 205.43783238237066, 293.15367053457635, 151.89428613184532, 203.89109435280432, 140.3768782852904, 1574.7080302785528, 670.2599766385325, 507.09051729677185, 497.9711288905094, 482.87099897105026, 410.4445862824578, 410.304203048764, 384.9531737723352, 340.9391647606512, 340.07789640696666, 331.28750887393056, 268.671860649164, 261.1245403408104, 208.7733523244867, 192.8434931813562, 182.27619561073286, 163.8123086637529, 146.78741482429697, 140.11437154271778, 136.8664258108321, 118.11974232887881, 113.85027470808502, 105.16715594628302, 103.87146124950601, 95.64189206745485, 89.27118269129481, 85.26823858370656, 84.15180697502672, 83.5357464248968, 81.01707405226641, 310.4513499083384, 189.69190257736332, 333.9599872871321, 142.5500303916293, 231.31380987025696, 257.0634469772943, 167.02480129532, 192.5906929250307, 577.5171798368008, 446.3946453527074, 412.6159893578723, 322.9728441180499, 281.7828101314043, 272.86320391430775, 265.123970867951, 189.0805930879084, 159.74511968627658, 147.45926112502173, 142.93336288772582, 138.16319583839916, 132.45280008025935, 122.71817303661534, 114.22207337957168, 87.5046916956396, 86.8915177943375, 67.04431846445821, 63.84845718131828, 61.1458338743308, 56.420687316172796, 47.82687837553215, 42.75982847009584, 34.85681299620313, 31.953215560873936, 29.055092342900434, 27.209841397858074, 25.70097341464014, 402.28073734170783, 14.17775577406607, 151.73213180251776, 441.13450726979477, 219.7825542564502, 82.5800066171452, 1661.0874901181455, 210.9048291586485, 104.03804709165293, 893.5547086598714, 42.25837675211441, 40.60199598480594, 27.600009400623456, 23.69324785644523, 21.537672645479326, 9.209267155795333, 286.5266183451463, 3.2478423055817545, 201.16333716420303, 134.21718795728103, 98.1811873772297, 146.53903138753145, 11.817655124161073, 43.57085466817806, 0.03934641035958452, 0.0393242102023122, 0.03931167617160879, 0.03931105591825208, 0.039310874755142944, 0.03931026064290858, 0.03930979084704929, 0.03930851349360181, 0.039307930086979165, 0.03930754319627151, 0.03930742651494698, 0.03930771514769713, 0.03930748178504807, 286.76840090022364, 145.7732560838132, 125.84555174708196, 111.96908308918083, 96.78030483925099, 70.24147622887388, 63.6475300893479, 59.25225639817873, 50.948602242372836, 50.80135942109863, 49.10820154629707, 45.33223391521343, 44.24809238255729, 43.24344067624745, 39.497651797136015, 38.03483070163679, 37.7459774899851, 37.42282651872483, 31.81922282460524, 24.32832571679197, 24.20686374871154, 19.29461169284764, 15.60436993305222, 13.45933332205896, 10.789210025230703, 10.222348176719965, 10.071991721122147, 9.409878796164067, 9.239404147728639, 6.146128389911381, 93.57226878948516, 59.08121616630838, 18.391692844178092, 521.7087858446953, 211.8762576525981, 211.32219925655804, 118.91146662452476, 97.68395039003096, 93.91296110269694, 75.53546880716891, 50.22053341511326, 36.77622778779251, 35.51599403357465, 31.38321617283628, 27.871828055764972, 24.318723226261973, 14.707644344829712, 12.132620444775432, 7.4477853587040395, 0.030766441672844248, 0.030762625383235792, 0.03076001855336001, 0.03076072577981386, 0.030760322626569636, 0.030757374141402137, 0.030757268228261705, 0.030757182814438778, 0.03075717939788586, 0.03075717939788586, 0.030757199897203363, 0.03075717939788586, 0.03075717939788586, 0.030757182814438778, 0.030759509486975353, 0.030760165465135447, 0.030757773878093444, 0.030757517636624657, 0.030757391224166722, 0.030758501603864796, 0.03075745613867215, 0.030758105283726408, 0.03075763379942384, 0.030757613300106335, 0.030757500553860073, 125.5779033081198, 94.81083422787495, 80.30677068609496, 55.45845363662182, 46.0702152589205, 42.05823999472099, 40.12861333309755, 25.321698178720744, 17.62660922691477, 11.486994989129487, 10.775728437958385, 0.024835880675175576, 0.024834020444511468, 0.024833060868512787, 0.024831181698848705, 0.024832658940846672, 0.024831194324848687, 0.024830036941516948, 0.024829220460184737, 0.024828921644851815, 0.024828921644851815, 0.024829020548518342, 0.024828860619185232, 0.024829454041184414, 0.024828898497185177, 0.024828967940185083, 0.024828589160185602, 0.024828591264518935, 0.02482851550851904, 0.02482843975251914, 0.024830167410183433, 0.02482861441218557, 107.91825003058119, 94.66979689389505, 89.10885257697785, 23.867742332750407, 15.082095816675478, 13.651351610717342, 10.146476606693685, 8.389783410517733, 7.896807080262335, 7.312461282324375, 6.081491960416137, 3.572667293779613, 0.0172945732274535, 0.0172945732274535, 0.017293483888954343, 0.017293483888954343, 0.017293497119786314, 0.017292322515925548, 0.01729244306350575, 0.017292291643984277, 0.017292396020547624, 0.017292396020547624, 0.01729241219156448, 0.01729243130276622, 0.017292397490640064, 0.01729232692620287, 0.017292396020547624, 0.017292469525169697, 0.017292401900917388, 0.017292396020547624, 0.017292400430824948, 0.017292579782102812, 0.01729244306350575, 0.017292406311194716], \"Total\": [49570.0, 18756.0, 17206.0, 7674.0, 14416.0, 10952.0, 5104.0, 7194.0, 14622.0, 6967.0, 8426.0, 6454.0, 3654.0, 9333.0, 5859.0, 3973.0, 4098.0, 3063.0, 2419.0, 2396.0, 1662.0, 2174.0, 2853.0, 2396.0, 3301.0, 3373.0, 6540.0, 3664.0, 7964.0, 4102.0, 7964.192509371696, 6496.491697608395, 5078.790685729272, 4968.509390986909, 4912.414987063561, 4355.574954463836, 3550.0366565216623, 3281.417508990512, 2957.8762002248745, 2654.869031919941, 2297.6863756346097, 2183.7745236589444, 2344.4385827069927, 2123.204128369654, 2074.407291089806, 2283.5856399452427, 1986.4758138352088, 1950.8398750037443, 1785.3790327042814, 1682.8475024870222, 1616.4728051866634, 1536.2438521017095, 2081.965156612779, 1500.978621651086, 1497.4908089786366, 1349.6019325893, 1310.3837010686934, 1250.0715000438051, 1235.464062962301, 1183.8814060053437, 6677.545534033383, 4418.824975846436, 4467.128271813133, 7822.677795418714, 4750.424323719039, 14622.47534064222, 4203.734404882773, 8673.072956438979, 2288.787350607059, 2829.8054905113163, 7117.708445721721, 9333.052432900018, 9165.425302050142, 3916.4476465512025, 4502.441416047027, 8426.273459330085, 2960.7729194937, 4129.495558356054, 4169.665295147956, 2866.3110185438723, 6927.209730467541, 10888.197815647283, 5104.7879080496205, 6261.621466570815, 4210.874325847428, 4906.492279104832, 17206.475313712, 7194.807058337758, 6454.438828255752, 1799.0795882932803, 6967.848811351594, 1118.8034827269944, 763.2512454956081, 725.0542036014292, 700.0045863761186, 688.6816088439533, 651.9184046132767, 650.0884035826264, 643.1768158442906, 616.9313223132563, 587.8191840925969, 570.327990483274, 568.1027994529758, 558.0897547318657, 543.1236660162305, 525.7043875817193, 517.1098928458354, 491.56860704220475, 455.42515603666556, 424.7453411342567, 423.16251992787636, 407.5722119193115, 383.5927911674411, 376.534309795763, 369.0934640536379, 359.79078221323425, 18756.30399449242, 4141.9216025460655, 586.4017365501613, 10952.400859056783, 1588.18056199601, 1501.5258980282338, 1289.9453039031891, 870.9442958857844, 840.3388321632638, 873.6323430467731, 14416.496509694894, 1394.4458464245813, 869.9991773049464, 3460.775486812425, 1081.994227656796, 1143.0597951316704, 1161.7474983021718, 3123.600976703255, 1539.2507279205515, 1087.2125267249953, 5970.294675194462, 10888.197815647283, 4446.1886715781875, 4332.97315789199, 3090.555868384347, 3343.172632521983, 1286.5802396265717, 4897.680595051158, 6927.209730467541, 4906.492279104832, 3609.9833650178034, 9165.425302050142, 3664.6697904882367, 2871.3781516737336, 5859.394680833722, 2491.89631342611, 2184.490914958895, 1799.1586912508997, 1708.5273436939062, 1665.3565354725179, 1652.4257694933628, 1568.0836273923683, 1270.5265785134184, 1119.061154917426, 1096.921187918358, 986.2743340326044, 959.5091570786949, 946.6948881681823, 915.7766263595294, 909.3699010785218, 905.4955295361347, 890.809329606991, 868.7863710889435, 865.8039846583899, 863.4744523048258, 862.530815785435, 835.1927678060948, 821.5541721459058, 812.8006802688974, 810.7211206154764, 764.8548216958643, 759.4532032412724, 736.466765866181, 694.6218661505198, 1345.420657984126, 1054.2234788263927, 1510.346543182641, 1445.8002944018208, 4098.163018529529, 2516.0857727721623, 2557.7189713559887, 6540.511643691562, 1938.7349922868748, 2396.3089749293285, 1716.8455559378983, 1599.0044959063496, 2088.1994030679666, 2871.3781516737336, 1995.1155521924277, 6261.621466570815, 2241.457451370072, 1758.9393684210208, 5084.8177494643505, 3284.2059414830596, 4897.680595051158, 3415.9763665503415, 4446.1886715781875, 49570.98293756167, 7674.709536692604, 3973.144938864741, 2117.397289494535, 1053.057422923539, 691.8994404003831, 655.252495888011, 580.9830528142844, 549.9396136630896, 537.638446265749, 524.0504569127031, 498.21047470668293, 491.2825157852774, 472.0088060077031, 426.10840577575937, 419.7094817039606, 397.4713052884615, 381.36618411038535, 373.64735448955645, 330.76158245876695, 318.0285495099936, 299.5827412603046, 295.4714459315753, 294.1517120913748, 288.9225305256344, 269.71657547300595, 241.67660772452078, 236.7604746778745, 216.71117034698432, 215.83261366315435, 1207.5271924667588, 2123.055076210268, 1128.507638698392, 896.6501803947688, 669.4854654027321, 639.8317333821007, 612.7194172254361, 579.0122036799879, 552.7073779480795, 510.64107715447085, 492.65323158742643, 489.8467327862516, 475.18741776867677, 471.0454156362588, 428.59891529860164, 408.753175801527, 404.6852996254243, 396.3312365627153, 372.5260784792727, 370.278494923386, 334.90199198826866, 330.38162444757694, 329.74914142395863, 329.58565760972255, 324.115528869893, 322.67615352235674, 321.7423020521698, 309.7024364548784, 302.4865397703642, 301.53213319693, 296.4402103196651, 628.4479743798782, 2054.5049224020454, 1651.866076970386, 3664.6697904882367, 1756.7650241512117, 2217.654694031383, 1239.4255802968898, 589.5637699635892, 1159.3516198294453, 676.7642579947047, 555.509945451681, 1780.4280198444756, 4102.0796264215805, 842.0205243356479, 8426.273459330085, 1136.0733898294961, 1443.1715521385474, 3231.8386998371875, 976.1750243041076, 2039.5291059018296, 2403.2768069177528, 2088.1994030679666, 1642.6381110695158, 3039.525045393656, 3063.695920726429, 2853.105238480682, 1803.3611834134012, 1633.3844149780007, 1239.3782083173824, 1164.763215005992, 1047.286260613803, 1023.9017379687407, 1009.4551063998832, 920.4476574170785, 789.3537098777562, 685.307236881205, 546.122373082931, 510.704516478218, 493.4416340744907, 450.7190737261416, 426.5321516416946, 416.40636607919816, 399.47854664961363, 383.1147321015259, 345.1339386751495, 344.7248266849184, 333.96418824841834, 303.53286514804915, 299.6957832043978, 292.665985033068, 287.53989993658075, 287.4902520097909, 263.2894683749458, 261.7920889604408, 422.52302107530676, 1329.4353294568673, 1776.9934729651832, 3018.9058486128065, 735.1864517740017, 532.1637287639071, 870.0742315042561, 964.6538830145253, 547.0948090681004, 465.3646306773376, 4453.656967574105, 3415.9763665503415, 2244.697100503534, 1029.8267397152258, 3090.555868384347, 4502.441416047027, 3460.775486812425, 3654.724876470985, 2007.6701620021995, 1234.8424513867117, 1022.7330527830844, 924.7330354745548, 799.6393487141793, 798.5102576534498, 796.4822670351264, 730.7954548229819, 524.4757822629591, 486.1371336030112, 480.81708972315727, 410.4129265452212, 393.0109487674978, 341.0397229153043, 324.36204026708106, 310.56543530056814, 286.232073213487, 281.96809375200974, 276.30460461718405, 257.92258981388784, 232.03868837155642, 202.81442554246044, 172.7903452903541, 165.23743211956966, 159.77721734193284, 157.82630878405794, 153.45275953543307, 151.35297522931882, 150.19738300413738, 571.5904257479998, 2560.7566404044646, 541.0901718573341, 279.3918199852089, 391.38517695999866, 1604.7932807727516, 1624.9113077113639, 3301.7063292227695, 3373.8300443475673, 2024.362332864618, 982.5970601571732, 1889.609421312388, 1165.8513298253772, 530.0902518943167, 938.3390939801318, 1353.7152369900214, 978.5194451649828, 2268.2763798813617, 1652.9000602351548, 9333.052432900018, 1662.5539610689088, 3609.9833650178034, 1953.7857247472746, 1184.5925617343369, 1038.8115332789287, 1014.8035853068429, 1012.2381853127748, 946.6802357212674, 864.0421056164357, 842.393773640389, 758.9527946614667, 753.9734600237898, 662.1066633057757, 634.5722936802496, 530.5009619345113, 506.68576805718106, 468.6157863402283, 453.7496118979993, 440.96447775397974, 407.48719539095487, 376.0306149794763, 376.02420997924696, 367.60727124254413, 351.13932972866854, 349.1064225913129, 346.69801330536353, 298.38724094346617, 282.8286688745715, 274.6796671705246, 269.0983745445126, 266.02535940568094, 264.2813910026867, 476.97919633792566, 372.90231601177874, 545.7841256238447, 952.0513713060093, 988.6850350873477, 913.5278468871564, 1502.118645412556, 1132.2052194446158, 480.20644134817024, 1393.1453265203293, 748.440559356992, 935.8112337775574, 2217.654694031383, 1756.7650241512117, 2419.056395284945, 2396.0888303065003, 724.5555868742969, 599.7559236753276, 567.3194056799922, 557.9077495587941, 398.578429138335, 368.2420846904734, 320.67850332047635, 302.4595136049681, 268.0392795998337, 247.14069954997439, 233.29023494884981, 225.15803341534203, 224.71734963364085, 224.04908657502523, 217.17418441133253, 214.2361269066588, 167.00291939713316, 165.11340048180804, 141.46912527537287, 136.5767067200919, 134.11022100359529, 128.55107243190434, 128.4264386741069, 116.4001993306416, 110.12502793669398, 109.69592520023181, 96.70261384977803, 93.70831162756315, 1570.4845683916722, 461.7719002106936, 1746.70294879667, 309.3235619308568, 461.91286806581564, 756.4990506665148, 5104.7879080496205, 517.0218423275506, 394.3147870385866, 704.6625025290491, 1346.388186035953, 3415.9763665503415, 2351.8203190910667, 4129.495558356054, 651.7494128561984, 1781.8968315070508, 737.3753753627142, 2174.6151006770856, 895.0283962449538, 580.253161890977, 544.8031875557044, 521.1991374028206, 440.67111887568626, 389.46630145551796, 366.4384842243641, 341.4284889277932, 328.019163915221, 306.89611530926965, 303.76787150304006, 299.0690381149489, 287.4005584508517, 264.1163547783899, 262.2532317983063, 214.1703257217068, 208.99835932584872, 207.66432494095287, 201.7999776802648, 196.19120562794055, 190.91007725727653, 189.7842596813678, 180.2222752222946, 176.2732657437145, 169.37642046655301, 161.77436029458744, 153.02271884157187, 145.5519054440405, 144.79440819769314, 270.7775218710239, 354.58463236715164, 479.3017439390184, 692.3022668859436, 4098.163018529529, 1092.7321267465218, 1996.4148258536027, 1015.6448901073334, 850.484759052293, 718.6131416965795, 618.069693588749, 530.7216690202797, 442.0143156542488, 433.8046369334482, 385.58744381138723, 362.70083286379946, 339.76609050337936, 320.03196521241296, 249.59214215673938, 202.408776871972, 187.92520250505842, 183.0566663540129, 173.69025185591866, 169.13971813684282, 154.436723420043, 152.34175710304558, 151.23992326302425, 140.05547524505167, 135.1975678385111, 117.65914367568917, 109.35503251610338, 99.54611652683414, 98.08652073979067, 94.0732954876159, 88.36160079068242, 72.1690009654655, 65.58404486339344, 65.34118277615782, 724.1164658671021, 187.2218691305189, 463.72961829371883, 191.5606146398895, 1501.1909446709003, 624.1577397438691, 1375.657342217976, 395.3855572491523, 742.286792937934, 636.8603024478512, 1136.0733898294961, 1651.866076970386, 8426.273459330085, 603.5433539263537, 2268.2763798813617, 897.7252353419161, 877.2269566843041, 598.8043798032543, 488.2722961639596, 477.2070461120827, 452.0373353127688, 445.5926342788038, 391.40775109598263, 368.6590104892908, 354.0382339471978, 305.61855351188365, 304.45251697091055, 303.8021824544644, 290.1730537308437, 252.0767188931101, 250.0237509317731, 239.88829690990914, 234.84674405291625, 231.70471767136203, 218.22641703822308, 216.4949238209472, 212.43989086359767, 209.50327809738914, 204.93763145360901, 199.37124929407327, 196.192654343338, 195.3367478769997, 187.6801757407957, 181.72005283909337, 178.95832374278598, 400.60491644751636, 364.991222209128, 199.7641744613596, 455.767264277577, 418.0785251985314, 409.38276134882693, 400.1659085300333, 390.1469042676454, 327.80258928418345, 282.7001119093164, 279.9572305244533, 272.9255346817967, 259.06252883637165, 257.9131636212091, 232.93573969990783, 210.13694350072734, 204.89630540765216, 204.08479838413538, 182.1408170306344, 162.37437222622634, 151.87524342108694, 150.93122807802084, 141.1437085779658, 137.12459752868912, 135.45067295559895, 135.24663791332532, 132.51897061104745, 130.1099940091207, 118.9735821600992, 115.14501828020069, 110.16505880759166, 110.04202246110161, 109.86921157397403, 1848.281767504596, 902.6492873887581, 143.7985647013834, 489.7170176133656, 1619.9249210704106, 248.820029516947, 1165.8513298253772, 296.0372123106165, 1575.8866254310067, 671.4385717909864, 508.2691124543039, 499.1497240429633, 484.04959412350416, 411.62318144729556, 411.4827982042885, 386.13176893998053, 342.117759927418, 341.25649155942057, 332.4661040523054, 269.85045580468847, 262.30313550320994, 209.95194749055614, 194.0220883368806, 183.45479079412726, 164.9909038212849, 147.96601002262497, 141.29296671527354, 138.045021001711, 119.298337525941, 115.0288698785218, 106.34575109873693, 105.05005640195992, 96.82048725114898, 90.4497778722132, 86.44683373616047, 85.33040215930784, 84.71434157735071, 82.1956692090876, 614.6712910127133, 292.7948263260594, 747.6545437218074, 208.53228176034804, 569.410126531707, 800.6621333903263, 606.6444941908371, 1501.1909446709003, 578.7069112393269, 447.58437674789434, 413.80572075930195, 324.1625755256542, 282.9725415316694, 274.05293530949467, 266.31370226313794, 190.27032448309527, 160.93485108146345, 148.6489925202086, 144.1230942829127, 139.3529272448044, 133.64253147544622, 123.90790443905563, 115.4118047747586, 88.69442314480743, 88.08124926477582, 68.23404985964513, 65.03818866549291, 62.335565269517694, 57.610418745600946, 49.01660978283985, 43.949559880260765, 36.04654439139003, 33.142946967639496, 30.244823738087327, 28.399572793044968, 26.890704890419876, 424.0022791923829, 15.367487328360008, 165.3425510312309, 508.70588709997764, 395.3855572491523, 493.9775332598088, 1662.2895308119394, 212.1068698524423, 105.24008780752182, 918.0655900525519, 43.460417445908185, 41.804036678599715, 28.802050271035046, 24.895288729642658, 22.739713339273102, 10.411307864181667, 389.98410585160127, 4.449883034995089, 323.7680443228412, 347.5970141382955, 371.7938667797971, 2396.3089749293285, 260.60340743221786, 1143.0597951316704, 1.2415100045816418, 1.2414165843424205, 1.2413808124344212, 1.2413776609163334, 1.241379519060398, 1.241379522137164, 1.2413691625909913, 1.241362452575434, 1.2413645482977138, 1.24135820630252, 1.2413610278433929, 1.2413757318976446, 1.2413773200323437, 287.97549933693335, 146.98035452975756, 127.0526501954247, 113.17618154237857, 97.98740328964116, 71.44857466558354, 64.85462852605755, 60.459354872583596, 52.15570068458431, 52.00845786514746, 50.3153000097494, 46.53933236354373, 45.45519081926693, 44.45053911732438, 40.704750256559606, 39.24192915434681, 38.953075932196576, 38.62992498956366, 33.026321274514586, 25.53542416075498, 25.41396220116868, 20.501710135799968, 16.811468369761865, 14.666431758768606, 11.996308479816129, 11.429446613429612, 11.279090160902355, 10.616977560643512, 10.446502591777472, 7.353226880587626, 172.2548870048751, 323.21980392920744, 68.98120284294826, 522.9193742901068, 213.08684608584963, 212.53278766837553, 120.12205504797537, 98.89453882073494, 95.1235495239599, 76.7460572510776, 51.431121908834186, 37.98681619961001, 36.726582445392154, 32.59380458465379, 29.082416474835842, 25.529311638079477, 15.918232756647216, 13.343208856592936, 8.658373866251628, 1.241450663326546, 1.2413888537987448, 1.241377106333185, 1.2414420037776277, 1.241439006111965, 1.2413608364294941, 1.2413604779304106, 1.2413591118044731, 1.2413590839457638, 1.2413591027229725, 1.2413601367151605, 1.2413594979122182, 1.2413595592678897, 1.241359905893054, 1.241457234235412, 1.2414957484577143, 1.2413897213968421, 1.241378008785174, 1.241373783505339, 1.2414521152035523, 1.2413783834474175, 1.2414556043063343, 1.2414023588495984, 1.2414179845017885, 1.2413979129366104, 126.7944199263233, 96.02735087232404, 81.52328729751753, 56.67497024366464, 47.28673187657329, 43.27475660176381, 41.345129932887005, 26.5382148073988, 18.843125844553164, 12.70351163073788, 11.992245043990525, 1.2414957484577143, 1.241457234235412, 1.2414521152035523, 1.2414179845017885, 1.2415091385719677, 1.2414472674347847, 1.2414002279827048, 1.241386664141463, 1.241381700646942, 1.2413826106194763, 1.241387706588338, 1.2413818257919207, 1.241413581936793, 1.2413906441221956, 1.2413941474376795, 1.2413774209325696, 1.2413785021568084, 1.2413791388513689, 1.2413777025231356, 1.2415100045816418, 1.2413994472549945, 109.14230143339215, 95.8938482621431, 90.33290395199154, 25.091793696131003, 16.3061471905321, 14.87540301221091, 11.370527970074283, 9.613834773898331, 9.120858580356902, 8.536513901829284, 7.305543344017646, 4.796718662238362, 1.241381587118953, 1.2413906444430014, 1.2413665748479168, 1.2413666162458123, 1.241374121046974, 1.2413453262354843, 1.2413547845775277, 1.2413458005262519, 1.2413546150245638, 1.2413550262121364, 1.2413568931427852, 1.2413586856602836, 1.2413571872827702, 1.241352186521732, 1.241357670033685, 1.241363236758949, 1.2413598277431204, 1.2413613499378324, 1.2413621441808436, 1.2414067723172797, 1.2413943820514608, 1.241387856127851], \"Category\": [\"Default\", \"Default\", \"Default\", \"Default\", \"Default\", \"Default\", \"Default\", \"Default\", \"Default\", \"Default\", \"Default\", \"Default\", \"Default\", \"Default\", \"Default\", \"Default\", \"Default\", \"Default\", \"Default\", \"Default\", \"Default\", \"Default\", \"Default\", \"Default\", \"Default\", \"Default\", \"Default\", \"Default\", \"Default\", \"Default\", \"Topic1\", \"Topic1\", \"Topic1\", \"Topic1\", \"Topic1\", \"Topic1\", \"Topic1\", \"Topic1\", \"Topic1\", \"Topic1\", \"Topic1\", \"Topic1\", \"Topic1\", \"Topic1\", \"Topic1\", \"Topic1\", \"Topic1\", \"Topic1\", \"Topic1\", \"Topic1\", \"Topic1\", \"Topic1\", \"Topic1\", \"Topic1\", \"Topic1\", \"Topic1\", \"Topic1\", \"Topic1\", \"Topic1\", \"Topic1\", \"Topic1\", \"Topic1\", \"Topic1\", \"Topic1\", \"Topic1\", \"Topic1\", \"Topic1\", \"Topic1\", \"Topic1\", \"Topic1\", \"Topic1\", \"Topic1\", \"Topic1\", \"Topic1\", \"Topic1\", \"Topic1\", \"Topic1\", \"Topic1\", \"Topic1\", \"Topic1\", \"Topic1\", \"Topic1\", \"Topic1\", \"Topic1\", \"Topic1\", \"Topic1\", \"Topic2\", \"Topic2\", \"Topic2\", \"Topic2\", \"Topic2\", \"Topic2\", \"Topic2\", \"Topic2\", \"Topic2\", \"Topic2\", \"Topic2\", \"Topic2\", \"Topic2\", \"Topic2\", \"Topic2\", \"Topic2\", \"Topic2\", \"Topic2\", \"Topic2\", \"Topic2\", \"Topic2\", \"Topic2\", \"Topic2\", \"Topic2\", \"Topic2\", \"Topic2\", \"Topic2\", \"Topic2\", \"Topic2\", \"Topic2\", \"Topic2\", \"Topic2\", \"Topic2\", \"Topic2\", \"Topic2\", \"Topic2\", \"Topic2\", \"Topic2\", \"Topic2\", \"Topic2\", \"Topic2\", \"Topic2\", \"Topic2\", \"Topic2\", \"Topic2\", \"Topic2\", \"Topic2\", \"Topic2\", \"Topic2\", \"Topic2\", \"Topic2\", \"Topic2\", \"Topic2\", \"Topic2\", \"Topic2\", \"Topic2\", \"Topic2\", \"Topic2\", \"Topic2\", \"Topic2\", \"Topic2\", \"Topic2\", \"Topic2\", \"Topic2\", \"Topic3\", \"Topic3\", \"Topic3\", \"Topic3\", \"Topic3\", \"Topic3\", \"Topic3\", \"Topic3\", \"Topic3\", \"Topic3\", \"Topic3\", \"Topic3\", \"Topic3\", \"Topic3\", \"Topic3\", \"Topic3\", \"Topic3\", \"Topic3\", \"Topic3\", \"Topic3\", \"Topic3\", \"Topic3\", \"Topic3\", \"Topic3\", \"Topic3\", \"Topic3\", \"Topic3\", \"Topic3\", \"Topic3\", \"Topic3\", \"Topic3\", \"Topic3\", \"Topic3\", \"Topic3\", \"Topic3\", \"Topic3\", \"Topic3\", \"Topic3\", \"Topic3\", \"Topic3\", \"Topic3\", \"Topic3\", \"Topic3\", \"Topic3\", \"Topic3\", \"Topic3\", \"Topic3\", \"Topic3\", \"Topic3\", \"Topic3\", \"Topic3\", \"Topic3\", \"Topic3\", \"Topic4\", \"Topic4\", \"Topic4\", \"Topic4\", \"Topic4\", \"Topic4\", \"Topic4\", \"Topic4\", \"Topic4\", \"Topic4\", \"Topic4\", \"Topic4\", \"Topic4\", \"Topic4\", \"Topic4\", \"Topic4\", \"Topic4\", \"Topic4\", \"Topic4\", \"Topic4\", \"Topic4\", \"Topic4\", \"Topic4\", \"Topic4\", \"Topic4\", \"Topic4\", \"Topic4\", \"Topic4\", \"Topic4\", \"Topic4\", \"Topic4\", \"Topic5\", \"Topic5\", \"Topic5\", \"Topic5\", \"Topic5\", \"Topic5\", \"Topic5\", \"Topic5\", \"Topic5\", \"Topic5\", \"Topic5\", \"Topic5\", \"Topic5\", \"Topic5\", \"Topic5\", \"Topic5\", \"Topic5\", \"Topic5\", \"Topic5\", \"Topic5\", \"Topic5\", \"Topic5\", \"Topic5\", \"Topic5\", \"Topic5\", \"Topic5\", \"Topic5\", \"Topic5\", \"Topic5\", \"Topic5\", \"Topic5\", \"Topic5\", \"Topic5\", \"Topic5\", \"Topic5\", \"Topic5\", \"Topic5\", \"Topic5\", \"Topic5\", \"Topic5\", \"Topic5\", \"Topic5\", \"Topic5\", \"Topic5\", \"Topic5\", \"Topic5\", \"Topic5\", \"Topic5\", \"Topic5\", \"Topic5\", \"Topic5\", \"Topic5\", \"Topic5\", \"Topic5\", \"Topic6\", \"Topic6\", \"Topic6\", \"Topic6\", \"Topic6\", \"Topic6\", \"Topic6\", \"Topic6\", \"Topic6\", \"Topic6\", \"Topic6\", \"Topic6\", \"Topic6\", \"Topic6\", \"Topic6\", \"Topic6\", \"Topic6\", \"Topic6\", \"Topic6\", \"Topic6\", \"Topic6\", \"Topic6\", \"Topic6\", \"Topic6\", \"Topic6\", \"Topic6\", \"Topic6\", \"Topic6\", \"Topic6\", \"Topic6\", \"Topic6\", \"Topic6\", \"Topic6\", \"Topic6\", \"Topic6\", \"Topic6\", \"Topic6\", \"Topic6\", \"Topic6\", \"Topic6\", \"Topic6\", \"Topic6\", \"Topic6\", \"Topic6\", \"Topic6\", \"Topic6\", \"Topic6\", \"Topic7\", \"Topic7\", \"Topic7\", \"Topic7\", \"Topic7\", \"Topic7\", \"Topic7\", \"Topic7\", \"Topic7\", \"Topic7\", \"Topic7\", \"Topic7\", \"Topic7\", \"Topic7\", \"Topic7\", \"Topic7\", \"Topic7\", \"Topic7\", \"Topic7\", \"Topic7\", \"Topic7\", \"Topic7\", \"Topic7\", \"Topic7\", \"Topic7\", \"Topic7\", \"Topic7\", \"Topic7\", \"Topic7\", \"Topic7\", \"Topic7\", \"Topic7\", \"Topic7\", \"Topic7\", \"Topic7\", \"Topic7\", \"Topic7\", \"Topic7\", \"Topic7\", \"Topic7\", \"Topic7\", \"Topic7\", \"Topic7\", \"Topic7\", \"Topic7\", \"Topic7\", \"Topic7\", \"Topic7\", \"Topic7\", \"Topic7\", \"Topic7\", \"Topic7\", \"Topic8\", \"Topic8\", \"Topic8\", \"Topic8\", \"Topic8\", \"Topic8\", \"Topic8\", \"Topic8\", \"Topic8\", \"Topic8\", \"Topic8\", \"Topic8\", \"Topic8\", \"Topic8\", \"Topic8\", \"Topic8\", \"Topic8\", \"Topic8\", \"Topic8\", \"Topic8\", \"Topic8\", \"Topic8\", \"Topic8\", \"Topic8\", \"Topic8\", \"Topic8\", \"Topic8\", \"Topic8\", \"Topic8\", \"Topic8\", \"Topic8\", \"Topic8\", \"Topic8\", \"Topic8\", \"Topic8\", \"Topic8\", \"Topic8\", \"Topic8\", \"Topic8\", \"Topic8\", \"Topic8\", \"Topic8\", \"Topic8\", \"Topic8\", \"Topic9\", \"Topic9\", \"Topic9\", \"Topic9\", \"Topic9\", \"Topic9\", \"Topic9\", \"Topic9\", \"Topic9\", \"Topic9\", \"Topic9\", \"Topic9\", \"Topic9\", \"Topic9\", \"Topic9\", \"Topic9\", \"Topic9\", \"Topic9\", \"Topic9\", \"Topic9\", \"Topic9\", \"Topic9\", \"Topic9\", \"Topic9\", \"Topic9\", \"Topic9\", \"Topic9\", \"Topic9\", \"Topic9\", \"Topic9\", \"Topic9\", \"Topic9\", \"Topic9\", \"Topic9\", \"Topic9\", \"Topic9\", \"Topic9\", \"Topic9\", \"Topic9\", \"Topic9\", \"Topic9\", \"Topic9\", \"Topic9\", \"Topic9\", \"Topic9\", \"Topic9\", \"Topic9\", \"Topic10\", \"Topic10\", \"Topic10\", \"Topic10\", \"Topic10\", \"Topic10\", \"Topic10\", \"Topic10\", \"Topic10\", \"Topic10\", \"Topic10\", \"Topic10\", \"Topic10\", \"Topic10\", \"Topic10\", \"Topic10\", \"Topic10\", \"Topic10\", \"Topic10\", \"Topic10\", \"Topic10\", \"Topic10\", \"Topic10\", \"Topic10\", \"Topic10\", \"Topic10\", \"Topic10\", \"Topic10\", \"Topic10\", \"Topic10\", \"Topic10\", \"Topic10\", \"Topic10\", \"Topic10\", \"Topic10\", \"Topic10\", \"Topic10\", \"Topic10\", \"Topic11\", \"Topic11\", \"Topic11\", \"Topic11\", \"Topic11\", \"Topic11\", \"Topic11\", \"Topic11\", \"Topic11\", \"Topic11\", \"Topic11\", \"Topic11\", \"Topic11\", \"Topic11\", \"Topic11\", \"Topic11\", \"Topic11\", \"Topic11\", \"Topic11\", \"Topic11\", \"Topic11\", \"Topic11\", \"Topic11\", \"Topic11\", \"Topic11\", \"Topic11\", \"Topic11\", \"Topic11\", \"Topic11\", \"Topic11\", \"Topic11\", \"Topic11\", \"Topic11\", \"Topic11\", \"Topic11\", \"Topic11\", \"Topic11\", \"Topic11\", \"Topic11\", \"Topic11\", \"Topic11\", \"Topic11\", \"Topic11\", \"Topic11\", \"Topic11\", \"Topic12\", \"Topic12\", \"Topic12\", \"Topic12\", \"Topic12\", \"Topic12\", \"Topic12\", \"Topic12\", \"Topic12\", \"Topic12\", \"Topic12\", \"Topic12\", \"Topic12\", \"Topic12\", \"Topic12\", \"Topic12\", \"Topic12\", \"Topic12\", \"Topic12\", \"Topic12\", \"Topic12\", \"Topic12\", \"Topic12\", \"Topic12\", \"Topic12\", \"Topic12\", \"Topic12\", \"Topic12\", \"Topic12\", \"Topic12\", \"Topic12\", \"Topic12\", \"Topic12\", \"Topic13\", \"Topic13\", \"Topic13\", \"Topic13\", \"Topic13\", \"Topic13\", \"Topic13\", \"Topic13\", \"Topic13\", \"Topic13\", \"Topic13\", \"Topic13\", \"Topic13\", \"Topic13\", \"Topic13\", \"Topic13\", \"Topic13\", \"Topic13\", \"Topic13\", \"Topic13\", \"Topic13\", \"Topic13\", \"Topic13\", \"Topic13\", \"Topic13\", \"Topic13\", \"Topic13\", \"Topic13\", \"Topic13\", \"Topic13\", \"Topic13\", \"Topic13\", \"Topic13\", \"Topic13\", \"Topic13\", \"Topic13\", \"Topic13\", \"Topic13\", \"Topic14\", \"Topic14\", \"Topic14\", \"Topic14\", \"Topic14\", \"Topic14\", \"Topic14\", \"Topic14\", \"Topic14\", \"Topic14\", \"Topic14\", \"Topic14\", \"Topic14\", \"Topic14\", \"Topic14\", \"Topic14\", \"Topic14\", \"Topic14\", \"Topic14\", \"Topic14\", \"Topic14\", \"Topic14\", \"Topic14\", \"Topic14\", \"Topic14\", \"Topic14\", \"Topic14\", \"Topic14\", \"Topic14\", \"Topic14\", \"Topic14\", \"Topic14\", \"Topic14\", \"Topic14\", \"Topic14\", \"Topic14\", \"Topic14\", \"Topic14\", \"Topic15\", \"Topic15\", \"Topic15\", \"Topic15\", \"Topic15\", \"Topic15\", \"Topic15\", \"Topic15\", \"Topic15\", \"Topic15\", \"Topic15\", \"Topic15\", \"Topic15\", \"Topic15\", \"Topic15\", \"Topic15\", \"Topic15\", \"Topic15\", \"Topic15\", \"Topic15\", \"Topic15\", \"Topic15\", \"Topic15\", \"Topic15\", \"Topic15\", \"Topic15\", \"Topic15\", \"Topic15\", \"Topic15\", \"Topic15\", \"Topic15\", \"Topic15\", \"Topic15\", \"Topic15\", \"Topic16\", \"Topic16\", \"Topic16\", \"Topic16\", \"Topic16\", \"Topic16\", \"Topic16\", \"Topic16\", \"Topic16\", \"Topic16\", \"Topic16\", \"Topic16\", \"Topic16\", \"Topic16\", \"Topic16\", \"Topic16\", \"Topic16\", \"Topic16\", \"Topic16\", \"Topic16\", \"Topic16\", \"Topic16\", \"Topic16\", \"Topic16\", \"Topic16\", \"Topic16\", \"Topic16\", \"Topic16\", \"Topic16\", \"Topic16\", \"Topic16\", \"Topic17\", \"Topic17\", \"Topic17\", \"Topic17\", \"Topic17\", \"Topic17\", \"Topic17\", \"Topic17\", \"Topic17\", \"Topic17\", \"Topic17\", \"Topic17\", \"Topic17\", \"Topic17\", \"Topic17\", \"Topic17\", \"Topic17\", \"Topic17\", \"Topic17\", \"Topic17\", \"Topic17\", \"Topic17\", \"Topic17\", \"Topic17\", \"Topic17\", \"Topic17\", \"Topic17\", \"Topic17\", \"Topic17\", \"Topic17\", \"Topic17\", \"Topic17\", \"Topic17\", \"Topic18\", \"Topic18\", \"Topic18\", \"Topic18\", \"Topic18\", \"Topic18\", \"Topic18\", \"Topic18\", \"Topic18\", \"Topic18\", \"Topic18\", \"Topic18\", \"Topic18\", \"Topic18\", \"Topic18\", \"Topic18\", \"Topic18\", \"Topic18\", \"Topic18\", \"Topic18\", \"Topic18\", \"Topic18\", \"Topic18\", \"Topic18\", \"Topic18\", \"Topic18\", \"Topic18\", \"Topic18\", \"Topic18\", \"Topic18\", \"Topic18\", \"Topic18\", \"Topic18\", \"Topic18\", \"Topic18\", \"Topic18\", \"Topic18\", \"Topic18\", \"Topic18\", \"Topic18\", \"Topic18\", \"Topic19\", \"Topic19\", \"Topic19\", \"Topic19\", \"Topic19\", \"Topic19\", \"Topic19\", \"Topic19\", \"Topic19\", \"Topic19\", \"Topic19\", \"Topic19\", \"Topic19\", \"Topic19\", \"Topic19\", \"Topic19\", \"Topic19\", \"Topic19\", \"Topic19\", \"Topic19\", \"Topic19\", \"Topic19\", \"Topic19\", \"Topic19\", \"Topic19\", \"Topic19\", \"Topic19\", \"Topic19\", \"Topic19\", \"Topic19\", \"Topic19\", \"Topic19\", \"Topic20\", \"Topic20\", \"Topic20\", \"Topic20\", \"Topic20\", \"Topic20\", \"Topic20\", \"Topic20\", \"Topic20\", \"Topic20\", \"Topic20\", \"Topic20\", \"Topic20\", \"Topic20\", \"Topic20\", \"Topic20\", \"Topic20\", \"Topic20\", \"Topic20\", \"Topic20\", \"Topic20\", \"Topic20\", \"Topic20\", \"Topic20\", \"Topic20\", \"Topic20\", \"Topic20\", \"Topic20\", \"Topic20\", \"Topic20\", \"Topic20\", \"Topic20\", \"Topic20\", \"Topic20\"], \"logprob\": [30.0, 29.0, 28.0, 27.0, 26.0, 25.0, 24.0, 23.0, 22.0, 21.0, 20.0, 19.0, 18.0, 17.0, 16.0, 15.0, 14.0, 13.0, 12.0, 11.0, 10.0, 9.0, 8.0, 7.0, 6.0, 5.0, 4.0, 3.0, 2.0, 1.0, -4.2122, -4.4159, -4.6622, -4.6841, -4.6955, -4.8158, -5.0204, -5.0991, -5.2029, -5.311, -5.4556, -5.5065, -5.4355, -5.5346, -5.5579, -5.4618, -5.6012, -5.6193, -5.708, -5.7672, -5.8075, -5.8584, -5.5545, -5.8817, -5.884, -5.9881, -6.0176, -6.0647, -6.0765, -6.1192, -4.3928, -4.8021, -4.7917, -4.2388, -4.7343, -3.6219, -4.8612, -4.1557, -5.464, -5.2608, -4.3695, -4.1321, -4.262, -5.0189, -4.9328, -4.4392, -5.2724, -5.0553, -5.0555, -5.3081, -4.806, -4.5482, -5.038, -5.022, -5.1884, -5.1781, -2.6598, -3.5318, -3.6404, -4.9184, -3.5646, -5.3938, -5.7767, -5.8281, -5.8633, -5.8797, -5.9346, -5.9374, -5.9482, -5.9899, -6.0383, -6.0686, -6.0725, -6.0903, -6.1176, -6.1502, -6.1668, -6.2175, -6.2941, -6.364, -6.3678, -6.4054, -6.4662, -6.4848, -6.5049, -6.5305, -2.5796, -4.093, -6.0447, -3.1479, -5.0637, -5.1232, -5.2741, -5.6609, -5.7042, -5.6684, -3.0432, -5.2377, -5.6778, -4.4119, -5.4839, -5.4382, -5.4303, -4.605, -5.2212, -5.5244, -4.1726, -3.9774, -4.6318, -4.6731, -4.9188, -4.9376, -5.4683, -4.7912, -4.6543, -4.8844, -5.2387, -5.0422, -5.338, -5.4031, -3.6242, -4.4794, -4.6112, -4.8053, -4.8571, -4.8827, -4.8905, -4.9429, -5.1535, -5.2806, -5.3006, -5.407, -5.4346, -5.448, -5.4813, -5.4883, -5.4926, -5.5089, -5.534, -5.5375, -5.5402, -5.5412, -5.5735, -5.59, -5.6007, -5.6033, -5.6616, -5.6687, -5.6995, -5.7581, -5.0995, -5.3427, -5.0136, -5.0571, -4.0903, -4.5729, -4.5921, -3.7944, -4.8733, -4.7169, -5.0278, -5.087, -4.9975, -4.825, -5.0737, -4.5185, -5.0432, -5.1637, -4.7586, -4.9422, -4.8559, -5.0076, -4.9624, -0.62, -2.4856, -3.1441, -3.7737, -4.4728, -4.8933, -4.9478, -5.0683, -5.1234, -5.146, -5.1717, -5.2224, -5.2364, -5.2765, -5.3791, -5.3942, -5.4488, -5.4903, -5.5108, -5.6331, -5.6725, -5.7325, -5.7463, -5.7508, -5.7688, -5.8379, -5.9481, -5.9688, -6.0577, -6.0618, -5.1249, -3.6977, -4.3302, -4.5604, -4.853, -4.8984, -4.9418, -4.9985, -5.0451, -5.1244, -5.1604, -5.1661, -5.1965, -5.2053, -5.3, -5.3475, -5.3576, -5.3785, -5.4406, -5.4467, -5.5474, -5.5611, -5.563, -5.5635, -5.5803, -5.5848, -5.5877, -5.626, -5.6496, -5.6528, -5.6699, -4.9316, -3.9346, -4.1733, -3.541, -4.1626, -3.9875, -4.5066, -5.1112, -4.6108, -5.0433, -5.1932, -4.3867, -3.9937, -4.9672, -3.9255, -4.872, -4.7747, -4.4789, -5.0024, -4.865, -4.9551, -5.0081, -5.0684, -5.0649, -3.0529, -3.1241, -3.5831, -3.6822, -3.9584, -4.0206, -4.127, -4.1496, -4.1639, -4.2563, -4.4101, -4.5517, -4.7792, -4.8464, -4.8808, -4.9716, -5.0269, -5.051, -5.0926, -5.1346, -5.2393, -5.2405, -5.2723, -5.3682, -5.381, -5.4048, -5.4226, -5.4227, -5.511, -5.5168, -5.0386, -3.9209, -3.6749, -3.2789, -4.5673, -4.8628, -4.4372, -4.3885, -4.9193, -5.0637, -4.1005, -4.232, -4.4989, -4.7935, -4.6032, -4.638, -4.9141, -2.8601, -3.4594, -3.9458, -4.1345, -4.2353, -4.3809, -4.3823, -4.3848, -4.471, -4.8034, -4.8795, -4.8905, -5.0493, -5.0927, -5.235, -5.2853, -5.329, -5.4109, -5.4259, -5.4463, -5.5155, -5.6217, -5.7571, -5.9183, -5.9633, -5.9972, -6.0096, -6.0379, -6.0518, -6.0595, -4.7351, -3.2697, -4.7975, -5.4589, -5.1556, -4.0248, -4.0689, -3.6644, -3.7142, -4.1407, -4.6793, -4.3321, -4.6688, -5.0983, -4.8213, -4.6518, -4.8092, -4.482, -4.653, -4.5056, -4.8435, -4.7499, -3.4089, -3.9097, -4.0411, -4.0645, -4.0671, -4.1341, -4.2256, -4.251, -4.3554, -4.362, -4.4922, -4.5347, -4.7142, -4.7603, -4.8386, -4.8709, -4.8995, -4.9787, -5.0593, -5.0593, -5.082, -5.128, -5.1338, -5.1408, -5.2914, -5.3452, -5.3745, -5.3951, -5.4067, -5.4133, -4.8304, -5.0756, -4.7641, -4.2705, -4.2705, -4.3393, -4.0755, -4.3459, -4.9401, -4.5504, -4.8518, -4.7932, -4.6639, -4.9391, -2.5915, -2.601, -3.7982, -3.9876, -4.0433, -4.0601, -4.3972, -4.4766, -4.6154, -4.6741, -4.7954, -4.8769, -4.9349, -4.9706, -4.9725, -4.9755, -5.0069, -5.0206, -5.2712, -5.2826, -5.4384, -5.4739, -5.4923, -5.535, -5.536, -5.6352, -5.6912, -5.6952, -5.8227, -5.8546, -3.1026, -4.3001, -3.1969, -4.8024, -4.5088, -4.1349, -3.2411, -4.7337, -4.9158, -4.6939, -4.4341, -4.1026, -4.4834, -4.4658, -4.8491, -4.8771, -4.9413, -2.4099, -3.2985, -3.7326, -3.7957, -3.8401, -4.0084, -4.1322, -4.1934, -4.2643, -4.3045, -4.3713, -4.3816, -4.3972, -4.4372, -4.5221, -4.5292, -4.7327, -4.7573, -4.7637, -4.7925, -4.8209, -4.8484, -4.8543, -4.9063, -4.9286, -4.9688, -5.0151, -5.0711, -5.1216, -5.1268, -4.5886, -4.4592, -4.2649, -4.2529, -4.0503, -4.5831, -4.7441, -4.8095, -3.2694, -3.4382, -3.5892, -3.7418, -3.9252, -3.944, -4.0621, -4.1235, -4.1891, -4.2491, -4.4987, -4.7094, -4.7841, -4.8105, -4.8633, -4.8901, -4.9817, -4.9954, -5.0028, -5.0802, -5.1158, -5.2561, -5.33, -5.4251, -5.44, -5.4823, -5.5458, -5.7512, -5.8485, -5.8523, -3.4738, -4.9151, -4.1337, -4.9691, -3.5578, -4.3146, -4.2553, -4.852, -4.6476, -4.7531, -4.6617, -4.7624, -4.6182, -4.91, -4.8747, -3.166, -3.1891, -3.5716, -3.7761, -3.799, -3.8534, -3.8678, -3.9978, -4.0578, -4.0984, -4.246, -4.2499, -4.252, -4.2981, -4.4394, -4.4477, -4.4892, -4.5106, -4.5241, -4.5844, -4.5924, -4.6114, -4.6254, -4.6476, -4.6752, -4.6914, -4.6958, -4.736, -4.7685, -4.7839, -4.0612, -4.437, -4.7357, -3.7437, -3.8302, -3.8513, -3.8741, -3.8996, -4.0743, -4.2229, -4.2327, -4.2582, -4.3106, -4.315, -4.4174, -4.5209, -4.5463, -4.5503, -4.6648, -4.7805, -4.8478, -4.8541, -4.9217, -4.9508, -4.9632, -4.9647, -4.9853, -5.0038, -5.0941, -5.1272, -5.1719, -5.173, -5.1746, -2.3853, -3.6078, -4.999, -4.5379, -4.1824, -4.8399, -4.5455, -4.9187, -2.4046, -3.2587, -3.5377, -3.5559, -3.5867, -3.7492, -3.7495, -3.8133, -3.9347, -3.9372, -3.9634, -4.1729, -4.2014, -4.4252, -4.5045, -4.5609, -4.6677, -4.7774, -4.824, -4.8474, -4.9947, -5.0315, -5.1109, -5.1233, -5.2058, -5.2747, -5.3206, -5.3338, -5.3411, -5.3718, -4.0284, -4.521, -3.9554, -4.8067, -4.3226, -4.2171, -4.6483, -4.5058, -2.7942, -3.0518, -3.1304, -3.3754, -3.5118, -3.544, -3.5728, -3.9108, -4.0794, -4.1594, -4.1906, -4.2245, -4.2667, -4.3431, -4.4148, -4.6813, -4.6883, -4.9476, -4.9965, -5.0397, -5.1201, -5.2854, -5.3974, -5.6017, -5.6887, -5.7838, -5.8494, -5.9064, -3.1558, -6.5013, -4.1308, -3.0636, -3.7603, -4.7392, -1.4024, -3.4662, -4.1729, -2.0224, -5.0738, -5.1138, -5.4998, -5.6524, -5.7478, -6.5974, -3.1598, -7.6396, -3.5135, -3.9182, -4.2308, -3.8303, -6.348, -5.0432, -12.053, -12.0535, -12.0539, -12.0539, -12.0539, -12.0539, -12.0539, -12.0539, -12.054, -12.054, -12.054, -12.054, -12.054, -2.6814, -3.358, -3.505, -3.6218, -3.7676, -4.0881, -4.1867, -4.2582, -4.4092, -4.4121, -4.446, -4.526, -4.5502, -4.5732, -4.6638, -4.7015, -4.7092, -4.7177, -4.88, -5.1484, -5.1534, -5.3802, -5.5925, -5.7404, -5.9615, -6.0155, -6.0303, -6.0983, -6.1166, -6.5242, -3.8013, -4.2611, -5.4281, -1.9741, -2.8753, -2.8779, -3.4529, -3.6495, -3.6889, -3.9067, -4.3148, -4.6264, -4.6613, -4.785, -4.9036, -5.04, -5.5429, -5.7354, -6.2233, -11.7126, -11.7127, -11.7128, -11.7128, -11.7128, -11.7129, -11.7129, -11.7129, -11.7129, -11.7129, -11.7129, -11.7129, -11.7129, -11.7129, -11.7128, -11.7128, -11.7129, -11.7129, -11.7129, -11.7128, -11.7129, -11.7129, -11.7129, -11.7129, -11.7129, -2.9137, -3.1947, -3.3608, -3.731, -3.9165, -4.0076, -4.0545, -4.515, -4.8772, -5.3054, -5.3693, -11.4421, -11.4422, -11.4422, -11.4423, -11.4422, -11.4423, -11.4423, -11.4424, -11.4424, -11.4424, -11.4424, -11.4424, -11.4423, -11.4424, -11.4424, -11.4424, -11.4424, -11.4424, -11.4424, -11.4423, -11.4424, -2.7066, -2.8376, -2.8981, -4.2154, -4.6744, -4.7741, -5.0708, -5.2609, -5.3215, -5.3984, -5.5827, -6.1146, -11.4453, -11.4453, -11.4454, -11.4454, -11.4454, -11.4454, -11.4454, -11.4454, -11.4454, -11.4454, -11.4454, -11.4454, -11.4454, -11.4454, -11.4454, -11.4454, -11.4454, -11.4454, -11.4454, -11.4454, -11.4454, -11.4454], \"loglift\": [30.0, 29.0, 28.0, 27.0, 26.0, 25.0, 24.0, 23.0, 22.0, 21.0, 20.0, 19.0, 18.0, 17.0, 16.0, 15.0, 14.0, 13.0, 12.0, 11.0, 10.0, 9.0, 8.0, 7.0, 6.0, 5.0, 4.0, 3.0, 2.0, 1.0, 1.0481, 1.048, 1.048, 1.048, 1.048, 1.0479, 1.0479, 1.0479, 1.0478, 1.0478, 1.0477, 1.0477, 1.0477, 1.0477, 1.0477, 1.0476, 1.0476, 1.0476, 1.0476, 1.0475, 1.0475, 1.0475, 1.0474, 1.0474, 1.0474, 1.0473, 1.0473, 1.0473, 1.0473, 1.0472, 1.0437, 1.0472, 1.0467, 1.0394, 1.0427, 1.0307, 1.038, 1.0193, 1.0432, 1.0342, 1.0031, 0.9696, 0.8577, 0.9512, 0.8978, 0.7647, 0.9774, 0.8618, 0.8519, 0.9741, 0.5937, 0.3993, 0.6671, 0.4788, 0.7091, 0.5666, 1.8301, 1.83, 1.83, 1.8296, 1.8293, 1.8292, 1.8287, 1.8286, 1.8285, 1.8285, 1.8284, 1.8284, 1.8284, 1.8283, 1.8282, 1.8282, 1.8282, 1.8281, 1.8281, 1.828, 1.8279, 1.8278, 1.8276, 1.8275, 1.8274, 1.8273, 1.8272, 1.8271, 1.827, 1.827, 1.8241, 1.8211, 1.8242, 1.7938, 1.8089, 1.8056, 1.8065, 1.8124, 1.805, 1.8019, 1.6236, 1.765, 1.7966, 1.6818, 1.7725, 1.7633, 1.755, 1.5912, 1.6827, 1.7272, 1.3758, 0.9702, 1.2113, 1.1959, 1.288, 1.1907, 1.6149, 0.9552, 0.7454, 0.8603, 0.8128, 0.0776, 0.6985, 0.8773, 1.943, 1.9427, 1.9427, 1.9425, 1.9425, 1.9425, 1.9425, 1.9425, 1.9423, 1.9422, 1.9421, 1.942, 1.942, 1.942, 1.9419, 1.9419, 1.9419, 1.9419, 1.9419, 1.9419, 1.9418, 1.9418, 1.9418, 1.9418, 1.9418, 1.9418, 1.9417, 1.9417, 1.9416, 1.9415, 1.939, 1.9397, 1.9092, 1.9094, 1.8344, 1.8396, 1.804, 1.6628, 1.7998, 1.7444, 1.7669, 1.7788, 1.6014, 1.4554, 1.5708, 0.9822, 1.4849, 1.6068, 0.9504, 1.2039, 0.8906, 1.0992, 0.8808, 2.8118, 2.8117, 2.8115, 2.8113, 2.8108, 2.8102, 2.8101, 2.8099, 2.8098, 2.8097, 2.8097, 2.8096, 2.8096, 2.8095, 2.8092, 2.8092, 2.809, 2.8089, 2.8088, 2.8085, 2.8083, 2.8081, 2.8081, 2.808, 2.808, 2.8077, 2.8072, 2.8071, 2.8067, 2.8067, 2.0217, 2.8846, 2.8841, 2.8839, 2.8834, 2.8834, 2.8833, 2.8832, 2.8831, 2.8829, 2.8828, 2.8828, 2.8827, 2.8827, 2.8825, 2.8823, 2.8823, 2.8822, 2.882, 2.882, 2.8817, 2.8816, 2.8816, 2.8816, 2.8816, 2.8816, 2.8815, 2.8814, 2.8813, 2.8813, 2.8812, 2.8682, 2.6806, 2.66, 2.4954, 2.6091, 2.5513, 2.614, 2.7523, 2.5766, 2.6824, 2.7299, 2.3716, 1.93, 2.54, 1.2783, 2.3356, 2.1937, 1.6832, 2.357, 1.7575, 1.5033, 1.5908, 1.7705, 1.1586, 3.1627, 3.1627, 3.1624, 3.1624, 3.1622, 3.1621, 3.162, 3.162, 3.1619, 3.1618, 3.1616, 3.1614, 3.161, 3.1608, 3.1607, 3.1605, 3.1604, 3.1603, 3.1602, 3.1601, 3.1597, 3.1597, 3.1596, 3.1593, 3.1592, 3.1591, 3.159, 3.159, 3.1587, 3.1586, 3.1581, 3.1296, 3.0854, 2.9514, 3.0755, 3.1033, 3.0372, 2.9827, 3.019, 3.0364, 1.7409, 1.8748, 2.0277, 2.5123, 1.6036, 1.1926, 1.1796, 3.1791, 3.1788, 3.1785, 3.1783, 3.1782, 3.178, 3.1779, 3.1779, 3.1778, 3.1772, 3.177, 3.177, 3.1765, 3.1764, 3.176, 3.1758, 3.1756, 3.1753, 3.1752, 3.1751, 3.1748, 3.1743, 3.1736, 3.1725, 3.1722, 3.172, 3.1719, 3.1717, 3.1716, 3.1715, 3.1594, 3.1252, 3.1519, 3.1515, 3.1176, 2.8374, 2.7808, 2.4763, 2.4049, 2.4892, 2.6735, 2.3667, 2.513, 2.8716, 2.5776, 2.3805, 2.5477, 2.0342, 2.1797, 0.5961, 1.9834, 1.3016, 3.2565, 3.2561, 3.256, 3.256, 3.256, 3.2559, 3.2558, 3.2557, 3.2556, 3.2556, 3.2553, 3.2553, 3.2549, 3.2548, 3.2546, 3.2545, 3.2545, 3.2542, 3.254, 3.254, 3.2539, 3.2538, 3.2538, 3.2537, 3.2532, 3.253, 3.2528, 3.2528, 3.2527, 3.2527, 3.2451, 3.2461, 3.1766, 3.1138, 3.0761, 3.0863, 2.8529, 2.8652, 3.1286, 2.4532, 2.7731, 2.6084, 1.8749, 1.8326, 3.8603, 3.8603, 3.8592, 3.8589, 3.8587, 3.8587, 3.8579, 3.8576, 3.8572, 3.8569, 3.8564, 3.8561, 3.8558, 3.8556, 3.8556, 3.8556, 3.8554, 3.8553, 3.8538, 3.8537, 3.8525, 3.8522, 3.852, 3.8517, 3.8516, 3.8507, 3.8501, 3.8501, 3.8486, 3.8482, 3.7812, 3.8078, 3.5806, 3.7061, 3.5988, 3.4794, 2.4639, 3.2612, 3.35, 2.9914, 2.6037, 2.0042, 1.9966, 1.4512, 2.9142, 1.8804, 2.6986, 4.1484, 4.1477, 4.1469, 4.1468, 4.1467, 4.1463, 4.146, 4.1458, 4.1455, 4.1454, 4.1451, 4.1451, 4.145, 4.1449, 4.1445, 4.1445, 4.1435, 4.1433, 4.1433, 4.1431, 4.143, 4.1428, 4.1428, 4.1424, 4.1423, 4.142, 4.1417, 4.1413, 4.1409, 4.1408, 4.053, 3.9128, 3.8058, 3.45, 1.8743, 2.6635, 1.8997, 2.5101, 4.2277, 4.2275, 4.2272, 4.2269, 4.2264, 4.2264, 4.2261, 4.2259, 4.2257, 4.2254, 4.2244, 4.2233, 4.2229, 4.2227, 4.2223, 4.2222, 4.2215, 4.2214, 4.2213, 4.2207, 4.2204, 4.2191, 4.2183, 4.2173, 4.2171, 4.2166, 4.2158, 4.2128, 4.2111, 4.211, 4.1842, 4.0955, 3.97, 4.0186, 3.3712, 3.492, 2.761, 3.4111, 2.9857, 3.0333, 2.546, 2.0709, 0.5856, 2.9301, 1.6415, 4.2771, 4.2771, 4.2765, 4.276, 4.276, 4.2758, 4.2758, 4.2754, 4.2753, 4.2751, 4.2746, 4.2746, 4.2746, 4.2744, 4.2738, 4.2737, 4.2735, 4.2734, 4.2734, 4.2731, 4.273, 4.2729, 4.2728, 4.2727, 4.2725, 4.2725, 4.2724, 4.2722, 4.272, 4.2719, 4.1888, 3.906, 4.2101, 4.3773, 4.3771, 4.377, 4.3769, 4.3769, 4.3763, 4.3757, 4.3757, 4.3756, 4.3753, 4.3753, 4.3748, 4.3743, 4.3741, 4.3741, 4.3734, 4.3726, 4.3721, 4.372, 4.3715, 4.3712, 4.3711, 4.3711, 4.3709, 4.3708, 4.3699, 4.3696, 4.3691, 4.3691, 4.3691, 4.3356, 3.8299, 4.2756, 3.5112, 2.6705, 3.8864, 2.6363, 3.6338, 4.4758, 4.4748, 4.4742, 4.4742, 4.4741, 4.4737, 4.4737, 4.4735, 4.4731, 4.4731, 4.473, 4.4722, 4.472, 4.4709, 4.4705, 4.4701, 4.4694, 4.4686, 4.4682, 4.468, 4.4666, 4.4662, 4.4654, 4.4653, 4.4643, 4.4634, 4.4628, 4.4626, 4.4625, 4.4621, 3.7935, 4.0425, 3.6706, 4.0961, 3.5757, 3.3404, 3.1867, 2.4231, 5.0879, 5.0873, 5.0871, 5.0863, 5.0858, 5.0856, 5.0855, 5.0837, 5.0826, 5.082, 5.0817, 5.0814, 5.0811, 5.0803, 5.0796, 5.0765, 5.0764, 5.0724, 5.0715, 5.0707, 5.0691, 5.0654, 5.0626, 5.0564, 5.0534, 5.0499, 5.0472, 5.0447, 5.0374, 5.0094, 5.0041, 4.9475, 4.5028, 3.3013, 5.4246, 5.4197, 5.4138, 5.3983, 5.3973, 5.3962, 5.3827, 5.3758, 5.371, 5.3027, 5.1171, 5.1104, 4.9494, 4.4737, 4.0938, 2.6309, 2.3319, 2.1583, 1.9737, 1.9732, 1.9729, 1.9729, 1.9729, 1.9728, 1.9728, 1.9728, 1.9728, 1.9728, 1.9728, 1.9728, 1.9728, 5.8987, 5.8947, 5.8934, 5.8922, 5.8905, 5.8859, 5.8841, 5.8828, 5.8795, 5.8795, 5.8787, 5.8767, 5.876, 5.8754, 5.8728, 5.8717, 5.8715, 5.8712, 5.8657, 5.8545, 5.8543, 5.8423, 5.8284, 5.817, 5.7969, 5.7913, 5.7897, 5.7822, 5.7801, 5.7236, 5.2927, 4.2035, 4.581, 6.0094, 6.006, 6.006, 6.0016, 5.9994, 5.9989, 5.9958, 5.9879, 5.9793, 5.9782, 5.9739, 5.9692, 5.9631, 5.9326, 5.9166, 5.8611, 2.3141, 2.314, 2.3139, 2.3139, 2.3139, 2.3139, 2.3139, 2.3139, 2.3139, 2.3139, 2.3139, 2.3139, 2.3139, 2.3139, 2.3139, 2.3139, 2.3139, 2.3139, 2.3139, 2.3138, 2.3139, 2.3138, 2.3139, 2.3138, 2.3138, 6.4867, 6.4836, 6.4813, 6.4746, 6.4703, 6.4678, 6.4665, 6.4494, 6.4296, 6.3957, 6.3894, 2.5846, 2.5845, 2.5845, 2.5844, 2.5844, 2.5844, 2.5844, 2.5844, 2.5844, 2.5844, 2.5844, 2.5844, 2.5844, 2.5844, 2.5844, 2.5844, 2.5844, 2.5844, 2.5844, 2.5843, 2.5843, 6.8437, 6.8422, 6.8414, 6.805, 6.777, 6.7691, 6.7411, 6.7188, 6.7109, 6.7002, 6.6716, 6.5604, 2.5814, 2.5814, 2.5814, 2.5814, 2.5814, 2.5813, 2.5813, 2.5813, 2.5813, 2.5813, 2.5813, 2.5813, 2.5813, 2.5813, 2.5813, 2.5813, 2.5813, 2.5813, 2.5813, 2.5813, 2.5813, 2.5813]}, \"token.table\": {\"Topic\": [4, 5, 3, 16, 5, 7, 1, 5, 1, 18, 1, 3, 6, 8, 4, 6, 12, 2, 5, 16, 4, 1, 8, 10, 3, 16, 1, 3, 5, 1, 2, 3, 7, 1, 8, 14, 10, 14, 13, 3, 3, 6, 2, 3, 5, 8, 2, 8, 9, 12, 8, 1, 5, 7, 4, 14, 11, 11, 11, 14, 1, 2, 13, 7, 7, 9, 8, 11, 12, 7, 10, 14, 3, 5, 4, 1, 2, 1, 2, 9, 10, 1, 7, 1, 7, 20, 7, 7, 10, 16, 1, 3, 16, 20, 2, 3, 8, 2, 3, 7, 9, 15, 17, 2, 17, 15, 10, 15, 14, 14, 11, 6, 2, 17, 4, 8, 4, 10, 15, 10, 3, 1, 5, 13, 14, 1, 3, 5, 2, 1, 9, 19, 2, 8, 13, 17, 12, 2, 3, 2, 14, 15, 1, 5, 7, 11, 3, 16, 7, 7, 7, 7, 6, 5, 8, 1, 8, 9, 11, 14, 1, 5, 7, 5, 8, 14, 7, 18, 13, 3, 6, 1, 5, 5, 3, 6, 3, 1, 7, 12, 5, 16, 9, 6, 17, 20, 14, 3, 6, 20, 12, 2, 19, 1, 8, 1, 5, 3, 10, 13, 5, 14, 5, 14, 6, 17, 17, 10, 1, 2, 4, 10, 5, 3, 18, 2, 3, 1, 2, 17, 1, 11, 14, 20, 12, 5, 9, 15, 5, 11, 6, 7, 17, 9, 3, 9, 18, 6, 14, 17, 8, 8, 3, 6, 2, 9, 1, 2, 3, 6, 2, 10, 10, 6, 12, 3, 10, 6, 10, 8, 7, 13, 2, 12, 12, 4, 6, 12, 14, 8, 14, 10, 1, 6, 13, 9, 6, 7, 11, 10, 8, 18, 1, 5, 7, 1, 3, 5, 7, 9, 1, 7, 14, 16, 1, 5, 7, 14, 7, 7, 9, 4, 9, 1, 11, 4, 5, 5, 1, 4, 8, 6, 4, 1, 9, 1, 2, 3, 6, 9, 1, 14, 14, 1, 3, 9, 11, 13, 13, 10, 9, 12, 1, 5, 11, 6, 12, 1, 2, 3, 5, 5, 9, 15, 20, 12, 18, 11, 4, 1, 2, 3, 6, 13, 7, 11, 1, 3, 1, 2, 9, 8, 15, 7, 1, 2, 9, 5, 8, 11, 6, 7, 11, 16, 15, 1, 2, 3, 5, 8, 14, 4, 2, 1, 9, 1, 1, 3, 8, 8, 17, 12, 1, 2, 3, 6, 11, 13, 1, 2, 9, 4, 9, 18, 11, 7, 5, 4, 18, 1, 2, 15, 1, 2, 17, 2, 6, 18, 2, 4, 9, 6, 13, 12, 16, 20, 1, 3, 5, 3, 6, 3, 8, 6, 10, 4, 2, 3, 4, 7, 7, 4, 15, 5, 15, 8, 8, 1, 3, 5, 6, 7, 8, 11, 17, 9, 13, 14, 15, 1, 16, 2, 6, 2, 1, 11, 14, 1, 1, 2, 4, 11, 6, 10, 8, 11, 1, 2, 9, 11, 13, 5, 15, 5, 15, 1, 1, 7, 11, 1, 5, 7, 2, 6, 1, 2, 3, 9, 12, 5, 14, 11, 1, 2, 3, 6, 7, 1, 9, 10, 13, 1, 2, 4, 3, 3, 2, 3, 1, 2, 3, 1, 7, 11, 9, 12, 1, 3, 7, 8, 6, 13, 8, 2, 17, 11, 8, 6, 8, 4, 1, 19, 5, 5, 3, 1, 2, 3, 9, 12, 2, 20, 6, 9, 10, 14, 12, 12, 9, 8, 13, 3, 6, 3, 10, 12, 3, 2, 11, 13, 13, 5, 7, 14, 10, 4, 11, 12, 4, 2, 4, 8, 4, 6, 4, 1, 2, 3, 5, 11, 11, 15, 20, 13, 2, 5, 8, 11, 1, 2, 3, 6, 1, 2, 3, 9, 17, 3, 1, 1, 2, 3, 5, 8, 2, 13, 3, 1, 2, 3, 9, 15, 2, 5, 10, 16, 17, 1, 2, 3, 7, 11, 11, 17, 14, 1, 8, 16, 13, 17, 2, 7, 2, 6, 13, 5, 10, 3, 5, 7, 13, 8, 17, 3, 15, 15, 15, 1, 5, 7, 11, 12, 1, 5, 2, 6, 16, 18, 1, 2, 9, 8, 17, 14, 9, 15, 13, 1, 13, 13, 1, 17, 5, 9, 1, 16, 18, 1, 9, 14, 8, 11, 10, 1, 2, 3, 1, 3, 5, 10, 15, 14, 2, 3, 6, 17, 2, 5, 8, 10, 10, 1, 3, 6, 11, 12, 3, 6, 13, 4, 2, 6, 13, 20, 5, 8, 5, 5, 1, 5, 7, 3, 5, 7, 8, 6, 12, 5, 8, 2, 4, 1, 3, 5, 8, 1, 2, 1, 2, 3, 6, 7, 8, 15, 20, 13, 9, 10, 12, 1, 17, 7, 8, 1, 7, 6, 8, 16, 7, 11, 10, 7, 5, 7, 11, 1, 9, 12, 14, 2, 4, 11, 2, 3, 8, 13, 11, 2, 3, 13, 6, 5, 5, 14, 15, 10, 10, 1, 5, 2, 10, 11, 18, 18, 13, 19, 8, 12, 19, 14, 14, 1, 5, 1, 2, 3, 6, 9, 17, 15, 19, 11, 13, 1, 2, 7, 15, 1, 14, 2, 3, 9, 13, 1, 7, 10, 3, 4, 11, 13, 2, 7, 13, 9, 15, 6, 7, 3, 15, 8, 16, 3, 8, 16, 8, 1, 1, 2, 3, 1, 2, 3, 6, 11, 1, 5, 7, 11, 6, 3, 9, 2, 3, 17, 6, 14, 1, 3, 6, 12, 1, 9, 14, 1, 13, 18, 3, 13, 11, 3, 5, 3, 13, 11, 12, 2, 11, 2, 3, 6, 7, 11, 11, 19, 6, 13, 13, 13, 3, 10, 2, 17, 9, 13, 9, 9, 2, 5, 12, 17, 8, 7, 2, 1, 2, 17, 18, 2, 8, 15, 6, 4, 14, 1, 3, 5, 1, 6, 3, 17, 1, 1, 10, 14, 8, 3, 5, 19, 9, 15, 2, 3, 8, 13, 19, 1, 6, 11, 2, 2, 6, 17, 1, 1, 17, 9, 15, 1, 2, 3, 17, 9, 15, 2, 9, 19, 9, 7, 7, 4, 2, 8, 15, 14, 11, 14, 1, 2, 3, 7, 14, 7, 1, 6, 11, 11, 11, 1, 3, 12, 2, 7, 2, 4, 10, 6, 9, 2, 3, 8, 1, 2, 3, 6, 3, 6, 10, 6, 8, 15, 10, 13, 13, 2, 6, 12, 11, 4, 11, 1, 2, 3, 8, 11, 1, 17, 1, 11, 14, 1, 2, 9, 10, 5, 5, 6, 9, 6, 5, 15, 20, 2, 8, 1, 7, 11, 1, 2, 1, 3, 5, 7, 1, 2, 3, 6, 11, 8, 1, 2, 11, 1, 2, 9, 11, 13, 18, 19], \"Freq\": [0.9999075487236081, 0.998664042097109, 0.9990914670737137, 0.9807665301611574, 0.7340309751110646, 0.26480318373571893, 0.2909667792163432, 0.7078212261752675, 0.9990888772258105, 0.9909546186128998, 0.031780785818103154, 0.9666655686339709, 0.0013241994090876315, 0.99707006762126, 0.9972003590629176, 0.9993447466436447, 0.9946449892760318, 0.9980473486161929, 0.7315881844847587, 0.2635869194099498, 0.9983079492430588, 0.16690946989372607, 0.12309573404662298, 0.7093652470483358, 0.26154912077061304, 0.7359274280506465, 0.13940989098986564, 0.532070937664378, 0.3281307041202514, 0.5658278800331775, 0.031142093312579625, 0.38248878709552925, 0.02028228641383391, 0.9991428489940235, 0.9986556038035515, 0.9908490369667228, 0.9932179569879085, 0.9955902149589518, 0.9894244253105108, 0.9976651092780767, 0.4777502671333344, 0.5214469379077248, 0.0054004433666092555, 0.1350110841652314, 0.8568703475020019, 0.0018001477888697518, 0.9980588029947438, 0.6159473778332631, 0.18037504556939377, 0.20175282874798858, 0.9975222780825634, 0.18420572108270686, 0.21168392257018248, 0.6024850103920578, 0.9967658579345209, 0.9967328210974633, 0.9950767513206031, 0.9982542202708635, 0.8091433632711036, 0.18270979170637822, 0.035699935113009805, 0.9642634647787636, 0.9945895115738018, 0.9969513143324875, 0.9981389830050529, 0.9888929515695237, 0.8344416783117522, 0.16486544674523104, 0.9943800706859048, 0.9983006225431219, 0.9084949086622268, 0.08863364962558311, 0.9991060466784195, 0.9958180953620314, 0.9999801711101249, 0.9283709907209674, 0.07117162048368184, 0.9948499581649939, 0.00436912585931047, 0.9960398530804907, 0.9951268067870118, 0.9997037738682883, 0.9981086559139667, 0.5388534621196562, 0.4609005135291889, 0.8339033997323124, 0.9992832413296024, 0.9905328549331326, 0.9988509903716257, 0.8644447092918045, 0.1185156016904605, 0.8195938088734663, 0.06134434312851301, 0.8200068646874662, 0.9972527814418098, 0.9992659850846698, 0.9963503260770489, 0.3926737407377339, 0.162996647098682, 0.44347789048277764, 0.9485202538312808, 0.049808141182921144, 0.8159682949318321, 0.9981703074251118, 0.8863778329877477, 0.911014253720166, 0.9964254470416358, 0.9926727480126001, 0.9832633114062191, 0.9854533794712945, 0.9844683390896785, 0.9969743586844577, 0.9993999218821084, 0.975532717009164, 0.9947168476606956, 0.9961456328525533, 0.996142317655228, 0.9957732463053013, 0.9941911209711175, 0.9992572935428514, 0.999317500041458, 0.48584787987014844, 0.1586187165642901, 0.033722089348313646, 0.3209843319450595, 0.5213750302838092, 0.17791729520070637, 0.3007575842349332, 0.9978021054114566, 0.9994963878273166, 0.9884555224828837, 0.9674658191890926, 0.47518373524855656, 0.44790732748504425, 0.07680462186041624, 0.8476988812110191, 0.9939210040899347, 0.982841272448331, 0.016074506792379244, 0.8198753439804501, 0.010121917826919138, 0.16802383592685768, 0.053878459786056584, 0.7984908815484116, 0.031479549537920704, 0.11562680695659334, 0.025052676245804435, 0.9737866332064855, 0.9976608789487376, 0.9991681093668624, 0.9971861765349935, 0.9989115219344452, 0.9966226114830082, 0.8752233876784316, 0.12212419362954859, 0.3034800072377704, 0.5225412800678512, 0.05663535346338674, 0.08548732598247055, 0.030989155668645574, 0.46928357862482145, 0.029144980146173123, 0.5013924550570461, 0.9967862413975473, 0.9983285724685954, 0.9963964515387778, 0.9952783826422598, 0.974022139828077, 0.9946845703711183, 0.9991602059213514, 0.9992451964554184, 0.9998443161417355, 0.9950856002667335, 0.998825861878682, 0.9984935711233711, 0.997678368387575, 0.9996403086993305, 0.017495044615055806, 0.9797224984431252, 0.996958552771629, 0.9979045444946092, 0.67417502356965, 0.9897840848917586, 0.9984046077300504, 0.9966125613492139, 0.956488017183907, 0.9963180434936817, 0.9959710311032032, 0.003716309817549266, 0.9411509717422574, 0.9964258065410315, 0.9983257606555844, 0.9727887332131159, 0.13234579960444273, 0.8665498783624226, 0.9996453280086597, 0.998306586312726, 0.9987984678642421, 0.9945135436680088, 0.9905306860252414, 0.723652821716536, 0.2752847863933064, 0.9962694368988599, 0.996848418127913, 0.9967144967559484, 0.9797256324235492, 0.9933300301738007, 0.995867625256781, 0.20329101083525675, 0.7875525774090262, 0.008964013076200298, 0.9927767506981705, 0.9949188393930496, 0.9991371657839735, 0.9881885239818885, 0.9436279546621175, 0.05545316090081004, 0.9315135185955514, 0.06788767847632554, 0.9683519852079127, 0.7436444880602421, 0.23043529102159993, 0.025442382289451095, 0.8771104090166649, 0.995424796085724, 0.3981590474430684, 0.6010426384968611, 0.9720463974977804, 0.9833749573460113, 0.015912216138284974, 0.9167742392064502, 0.08297214924568763, 0.9267519574780403, 0.9953844123932176, 0.9982924193056434, 0.9944694001052693, 0.9948995158274023, 0.9964078871058196, 0.9891168850055545, 0.9669240557316299, 0.9992081371031026, 0.9971706706637478, 0.9984271571901516, 0.9984272246168339, 0.31592901509847054, 0.683411300443135, 0.9826653603622294, 0.004308436056985208, 0.012173041557831221, 0.0008206544870448015, 0.9961424948185066, 0.9968929744742463, 0.9970800695591516, 0.996298808379038, 0.997470602913522, 0.8969872558459117, 0.10272895394753231, 0.9251581533705561, 0.0742827714385118, 0.9987088935149533, 0.4220908444986217, 0.5771898424771179, 0.9986601070899189, 0.9959053852765674, 0.9957286063630229, 0.9978627390106646, 0.9991524255005094, 0.9963944824684243, 0.9915256855811864, 0.9983454606574717, 0.9839714601150106, 0.9978403187207233, 0.9992275966733, 0.998887984064805, 0.9917987177431544, 0.9879341929821241, 0.8815339797777336, 0.11723137671098935, 0.9930399417765214, 0.9918736004529933, 0.9975256007205562, 0.9627810682178894, 0.9996384049223578, 0.05232828371337741, 0.9469857313801509, 0.015385455120754689, 0.3058628478006032, 0.007385018457962251, 0.6714212614697346, 0.9953176038739443, 0.46703210882329244, 0.5314150910024334, 0.9947321032072083, 0.9674704193392111, 0.6420400661124535, 0.2509074270031169, 0.1065212293744576, 0.9920700310532646, 0.9993177660957755, 0.9956955445291134, 0.9927342827478324, 0.9989958544515043, 0.9978530468849083, 0.9994328720665315, 0.9977052425264837, 0.9980885293900122, 0.9959034318201225, 0.9965582368923125, 0.9989440489319541, 0.9973432278985848, 0.995627749045574, 0.9996126190980356, 0.99680699693459, 0.4487237888356373, 0.5492998104712112, 0.7124411150399882, 0.10971593171615818, 0.1496126341583975, 0.028022683858239535, 0.994856797255793, 0.5523941551188807, 0.446730382105826, 0.9978316392860431, 0.8298834449804526, 0.03801917153835164, 0.08984148178807935, 0.02106794855946874, 0.02082578823119899, 0.9964594144463668, 0.9919855038104108, 0.9936558700885059, 0.9970674524736426, 0.2359002529231161, 0.5774274847670304, 0.18572743793573693, 0.9980924805534608, 0.9962970394081261, 0.0519688736164887, 0.08522895273104146, 0.36170336037076134, 0.500979941662951, 0.9966411010793377, 0.9995455801584948, 0.9933235806132862, 0.9906787736821282, 0.9954998780930678, 0.9400958529646228, 0.9932616765039142, 0.9979955042518395, 0.5226760292526592, 0.4231186903473908, 0.050605252524725926, 0.00349001741549834, 0.9885377119664946, 0.9965666549745832, 0.9936210245123039, 0.9989080862281693, 0.0006789135157871563, 0.9912206795147649, 0.006008172805931642, 0.0026845027430758396, 0.12974097936285295, 0.8669056348336083, 0.9998016604544842, 0.6347433051811514, 0.33794270580602126, 0.027139354417570268, 0.7160718051705518, 0.2511662440050361, 0.03246673172057917, 0.9987718156322902, 0.042810792823055985, 0.9556473752759594, 0.9640378250131864, 0.9783943256121833, 0.5296880190014968, 0.05625878959581114, 0.22075817437888465, 0.17798833433528555, 0.015133943400042763, 0.9994373799379355, 0.9964176579694074, 0.9978536615501065, 0.13901301191408047, 0.8567080966797982, 0.9993480109330207, 0.9995694802969195, 0.998707931466295, 0.9979866821309162, 0.9986465614382449, 0.9899231609728192, 0.9959573995043254, 0.17310801771064002, 0.581448799674804, 0.034621603542128, 0.21031815235872153, 0.9967754308175809, 0.9900558591478588, 0.5775814642318388, 0.0014191190767367046, 0.4186401276373279, 0.9950200063260392, 0.9896152233039316, 0.9721740095156594, 0.9845905825777435, 0.995523641428738, 0.9951416499195165, 0.99739877045199, 0.808465897653647, 0.9992554946797266, 0.9997770792637382, 0.9668768485597713, 0.20110153898316357, 0.6125862264410213, 0.18253832000010234, 0.9986064012288721, 0.9970903439410665, 0.990278884964255, 0.9718046804896573, 0.02632686413576221, 0.9951745157969331, 0.9673279861799576, 0.03234455941348226, 0.9931567004594474, 0.9721530146816794, 0.8321341263030742, 0.03440565636237445, 0.8699157432532175, 0.09500652836428398, 0.966938522154889, 0.03250794745442045, 0.9017975557725406, 0.09777091173206037, 0.9982850402033763, 0.996074418254925, 0.9982914239313823, 0.9023074844023931, 0.09657725368221332, 0.9993400910157637, 0.9947644420602365, 0.994959402680942, 0.9987000417288058, 0.9961579126736754, 0.07257659885587085, 0.9193035855076974, 0.9995978449748494, 0.9992187868030622, 0.03845208601770413, 0.14602057981406633, 0.8147948353624901, 0.9946445695469728, 0.24652188148099533, 0.44907807709276854, 0.30304919188428087, 0.9778413352823404, 0.9961226593304335, 0.904042403134983, 0.0904042403134983, 0.9877244104301298, 0.9997012753168194, 0.9992242441596143, 0.9279124780345436, 0.07144409617520141, 0.9979311046700056, 0.446978448932158, 0.42432976448552107, 0.12856459112355662, 0.9990044620175977, 0.8265846646860331, 0.17336893244272789, 0.9962983358323345, 0.9858987272569112, 0.9414395850760193, 0.056373627848863433, 0.9234420283365984, 0.0751212761146836, 0.7657897949857206, 0.07526085158937953, 0.15519893124363576, 0.0034016204108194142, 0.9983165436886013, 0.9995030387001776, 0.9922073954316575, 0.9975011590705568, 0.9785745863738755, 0.9993056358747813, 0.5981343306185265, 0.12757989877458875, 0.27338549737411877, 0.5611847927029957, 0.13593543746074707, 0.3025465709856451, 0.9939058358978409, 0.006077956511766648, 0.014781635152859131, 0.25981566403294704, 0.7146352071978433, 0.010801964150166288, 0.9963758786024631, 0.9982518439619152, 0.9924298537236047, 0.9794741582693357, 0.4179578164940812, 0.5303517737732737, 0.01800149623773514, 0.033464319929123014, 0.9974276829419939, 0.7145041897852121, 0.2844647657876676, 0.9952212913079748, 0.9942370895916179, 0.3542538710505292, 0.6348095372489388, 0.010719738887581026, 0.9991854384069577, 0.9993089479582347, 0.38552915761190387, 0.6139908806411802, 0.9715126394439529, 0.0053037718270142215, 0.023059877508757487, 0.6061871525867218, 0.3183033630309914, 0.07538763861260322, 0.08237542437730756, 0.9136183430937749, 0.8216486834055182, 0.08106166228577501, 0.09617078868815318, 0.0007194822096370562, 0.9977244194162408, 0.9965807972787126, 0.9967553343296836, 0.9992818374813814, 0.886596335107226, 0.9960259608783846, 0.9987445929863245, 0.11869894922686502, 0.8787887118199481, 0.9997118305819802, 0.9991903289962673, 0.9937345829036884, 0.9966442286756155, 0.9981596162797377, 0.9990517453735545, 0.094230131078577, 0.2160275877386526, 0.6891831395374648, 0.9924413148069695, 0.9977051999210396, 0.9976715319860968, 0.9852445355603765, 0.9951024688419763, 0.9983729396848996, 0.9962351005721468, 0.9950319484335939, 0.9960375708247733, 0.9932221257611068, 0.9932567527616832, 0.9959183159453425, 0.9970864371372461, 0.1160380407969619, 0.8810295690139699, 0.7723759367384102, 0.2260389293535395, 0.9947040076811936, 0.9990149119109589, 0.9746068712446243, 0.023799923595717323, 0.993830116604236, 0.997420280800074, 0.05621061117051068, 0.940250223215815, 0.993471405882491, 0.989337786823841, 0.9988124988639048, 0.9758471002102281, 0.9986566901806587, 0.9960846323715531, 0.3577559186203521, 0.4538200078795207, 0.18715934631527678, 0.002366734947258102, 0.9940286778484028, 0.9975703547634248, 0.9074550002295138, 0.09140936693364263, 0.0007660002815668377, 0.5190995470679534, 0.4790455696707348, 0.44007677268381823, 0.5564189079910346, 0.9198984790661957, 0.9966223263913921, 0.14220036900993607, 0.18106258165861425, 0.6756725608236093, 0.991192453542872, 0.22153343382505056, 0.4169320478071459, 0.34894068055945754, 0.012454875081408374, 0.01709959419739376, 0.8060126901226059, 0.1282469564804532, 0.0474125111836827, 0.9868223973295264, 0.9991519478252937, 0.9996726648623746, 0.07399596020364572, 0.538438689141422, 0.3456893338389163, 0.0002249117331417803, 0.041608670631229354, 0.9791078150746858, 0.020148842496713792, 0.9980083746692141, 0.5140589420237573, 0.2239186876282524, 0.12346393804064042, 0.13805513071817066, 0.9964601607424141, 0.9998878276608095, 0.9973066986466289, 0.9985257289713961, 0.9947815464288718, 0.9896075170026994, 0.506362886381307, 0.015833355437058307, 0.47743656394821976, 0.9965573049632843, 0.9876088691583185, 0.9980677384767335, 0.9169487445665119, 0.9939941912048786, 0.008045002326843258, 0.9895352862017208, 0.9663966079542182, 0.9970603271354971, 0.9673673447807736, 0.9999142582263305, 0.9951356184889016, 0.9985912276647236, 0.9978973760262967, 0.9918168206552856, 0.9977811834916558, 0.9958161402047054, 0.9980865137771883, 0.9965472071942754, 0.9920279369707501, 0.996608838074181, 0.998776784623678, 0.9738588459276892, 0.9981082536020159, 0.9964136035019805, 0.9877095153966909, 0.9889068032534132, 0.7531205853488319, 0.20056315619910586, 0.020056315619910586, 0.0261088132330197, 0.9973942896741117, 0.40102716427837926, 0.5981707702471624, 0.9352091680180744, 0.025370501283932794, 0.038493174361829065, 0.9982418431304924, 0.6685875559073203, 0.017630097823113925, 0.31327327670302435, 0.9992814514388281, 0.8615323569712197, 0.9915676429273966, 0.9942300725628905, 0.99506708722843, 0.9975234820227417, 0.38582102970718235, 0.6108832970363721, 0.9920886701422373, 0.7103384397566955, 0.26094065133919425, 0.07577279165618768, 0.9232819151384213, 0.9988149692037253, 0.9882165833062599, 0.9511009958805422, 0.9898341805721277, 0.009991116458550676, 0.9975030698832441, 0.9874644504753419, 0.010482637478506815, 0.9933165555460381, 0.31736321052604916, 0.5276425102431204, 0.1549426418967893, 0.5159248401992833, 0.23442021865365495, 0.1437576981914508, 0.10568945755538717, 0.9840372450894571, 0.9978574781797995, 0.8627574286055785, 0.13643001506564117, 0.9970784101402496, 0.9398708182370923, 0.06058239559146576, 0.8171235307824529, 0.12116479118293152, 0.9945355374617699, 0.9952231236213095, 0.566725281802477, 0.19197706653768537, 0.24115013972102234, 0.9942276543375405, 0.9964033642868829, 0.14806688993146222, 0.8092335841220631, 0.042399467362924305, 0.9976974881632092, 0.5166248892737988, 0.06125986829333583, 0.4186091000044615, 0.989533834101077, 0.9977318988416136, 0.9951514141883957, 0.9976928677160722, 0.9951889362503747, 0.35061951709215067, 0.10017700488347162, 0.5477763884053661, 0.5810164692285782, 0.3236041094437651, 0.05491463675409347, 0.04020535905210414, 0.9949499203412405, 0.9930948781866886, 0.7587810445190554, 0.24078348224423138, 0.9990102700069231, 0.996718349377904, 0.2653212728779197, 0.14034368488137064, 0.5900581203771496, 0.004097625835952427, 0.9990561049465514, 0.0004803154350704574, 0.3831042584300605, 0.36149751066610913, 0.10166251832525829, 0.000277009586717325, 0.1529092918679634, 0.000277009586717325, 0.9877672411629476, 0.8212941484924968, 0.9892900276983159, 0.27945877542654257, 0.02739791915946496, 0.6904275628185169, 0.9993863849888822, 0.9443627801923914, 0.7357237727090928, 0.26221949847836895, 0.5045875780212654, 0.49489561973994456, 0.7521006802298968, 0.19953691516303385, 0.04604698042223858, 0.9735431767988046, 0.025054419991145705, 0.993928343402917, 0.9992073004354401, 0.016633087178624592, 0.972111539550726, 0.007392483190499818, 0.9988130332725393, 0.06007083118059871, 0.9361037858976632, 0.9910555508403381, 0.990844442221515, 0.0014486029857039694, 0.0074844487594705085, 0.1145049364278148, 0.17774894201294508, 0.6677235537040596, 0.039277856100238796, 0.9889228333149561, 0.6203991227790472, 0.19754001919332845, 0.18087258007389137, 0.9971128992797841, 0.9982714332268067, 0.9987201583038287, 0.987345511364272, 0.9902913611392772, 0.9976992720885993, 0.9974721767011085, 0.6150538823647655, 0.3846829276145858, 0.3423360161249416, 0.4968927828986494, 0.15889013406642857, 0.9906590421923166, 0.9927879943363506, 0.995898562246172, 0.9705427204710874, 0.9983479613462065, 0.9931221312053341, 0.9704460322349816, 0.9960566325696518, 0.9844088141431229, 0.23639983284015753, 0.7624499728121121, 0.12031699165853789, 0.01756452432971356, 0.4300381040058203, 0.27576303197650287, 0.1563242665344507, 0.9806097333675555, 0.9819144567531384, 0.9813146973335567, 0.5235828252475454, 0.4729135195784281, 0.9984042831592476, 0.0013431447755505573, 0.9954259869726747, 0.9709668594019236, 0.49294639985672123, 0.5043346005134771, 0.9756741471617648, 0.023309621263250355, 0.9945933518087555, 0.9975516078566187, 0.9243492482254673, 0.07553798771287289, 0.9962077867050831, 0.9991105195151091, 0.9967879998597352, 0.9885908590524801, 0.9959828418725553, 0.3105027122576777, 0.5137876371335606, 0.1749794290070891, 0.9976743159730086, 0.998052900868979, 0.9991193120049492, 0.996422997246757, 0.9983483855111899, 0.998778464148954, 0.6099016716974829, 0.38550388682765424, 0.9990714010646334, 0.37372434408426786, 0.620814819511883, 0.9987939180166547, 0.9997703841276447, 0.9995680193128036, 0.9365727635452031, 0.06239037551947371, 0.08878152020167188, 0.2654522840200742, 0.6321779604310003, 0.0017845531698828518, 0.011153457311767824, 0.23679062253863606, 0.05172005702817577, 0.7103718676159081, 0.9838018962459395, 0.994816338991069, 0.6106641481360482, 0.3881860037146236, 0.9984903954790881, 0.9982252045290219, 0.9679862565080218, 0.34836681125783187, 0.6489185699900789, 0.3363482760460809, 0.3416942089103895, 0.3212014662638733, 0.992824560498331, 0.5251048164900357, 0.0667357291860246, 0.4056829853150443, 0.9993215936446758, 0.9956255657911014, 0.9802164427775851, 0.9988823739203618, 0.9937366206584957, 0.9918016140429543, 0.9990948625403068, 0.9987000748185711, 0.9993559816282276, 0.9907824850025163, 0.9977552015083233, 0.9991921410768408, 0.22642504566851862, 0.7720015842793302, 0.9985648860083628, 0.8665444254546215, 0.03146381544805471, 0.07375943621429219, 0.028369013928573918, 0.9906970091813244, 0.8659023047913774, 0.042742400746970284, 0.9565641078562463, 0.991468802857351, 0.9915357811249209, 0.8044150154820938, 0.19396543212970926, 0.9959251793107639, 0.8749329987901593, 0.7685432135426412, 0.22731559837176712, 0.9879708167280346, 0.9978841633802991, 0.32253929209881815, 0.67727793823119, 0.9952290853583275, 0.9517312615463488, 0.9972762126691165, 0.9910607952881739, 0.9985460347706518, 0.985933488840562, 0.013428484794244215, 0.968924141869032, 0.8993338955397336, 0.9970374331703717, 0.9968307011280393, 0.9921706109562979, 0.9985585229192879, 0.9973894536360054, 0.9954658792074365, 0.01484532557305353, 0.7106601016261754, 0.27392020089634256, 0.13160424629625336, 0.8663946214503347, 0.999761975270537, 0.9578066747475175, 0.9996962084866645, 0.9992570693159564, 0.3117023390877201, 0.6857451459929843, 0.9965520019014998, 0.9985718652602464, 0.9977281474616625, 0.955255521217204, 0.9995633027460608, 0.9507185265340428, 0.057663893911480656, 0.8381650842284916, 0.07863258260656453, 0.02446347014426452, 0.9420377437381376, 0.9997079870936663, 0.9979448322605884, 0.9958830510773485, 0.9982452046860212, 0.8622344937921521, 0.13754142729392238, 0.9758622156048614, 0.9997119569361939, 0.9998502661292663, 0.9917148505457731, 0.9968077692496358, 0.9655146246121246, 0.9559256398159602, 0.0002809893121152147, 0.04369383803391588, 0.9581191323908225, 0.9917215780028763, 0.9792598919561395, 0.9958477030744152, 0.9966269887606207, 0.9172594422186401, 0.9987396144906827, 0.9959843805967838, 0.9925111876667617, 0.9982674720380643, 0.9968707129639742, 0.9978127994370607, 0.9588417592092058, 0.9900042280992023, 0.8759660437193364, 0.11750764001113048, 0.6104422307640618, 0.0030249862773243895, 0.018149917663946337, 0.36783833132264576, 0.9970689566852075, 0.9979498898887162, 0.8604220781624795, 0.13947988257254443, 0.9986402118805288, 0.99774524143288, 0.9981451629029691, 0.15071877572388945, 0.8486530234743485, 0.9973595237269745, 0.9968089763672193, 0.995800864164131, 0.9991606001349993, 0.0007175815858481753, 0.9952133311287564, 0.9986205007876643, 0.9939945996108714, 0.9767856018293342, 0.0023256800043555577, 0.0201558933710815, 0.2100753083017973, 0.018347188497973562, 0.7554454864040615, 0.015900896698243756, 0.9969423192604464, 0.0028456964393733008, 0.9952329532817166, 0.8344962003204612, 0.1637893163361899, 0.9965631240175983, 0.7896563314962741, 0.20587468642581433, 0.9918968504548394, 0.9941989657633452, 0.0034106311003888343, 0.9986013235514994, 0.9982692994012731, 0.998309588572838, 0.9924638773085813, 0.6177529337828679, 0.3790895601570882, 0.002853362280752277, 0.8428861830799935, 0.15544134804851828, 0.45281734153523595, 0.5457029500552844, 0.9944374813872727, 0.005262687771947887, 0.9976966349221814, 0.9954256344823555, 0.0005990224970557278, 0.0037438906065982982, 0.9960357890547823, 0.9981573823859592, 0.9977806478917819, 0.24388806367646992, 0.7557094930820194, 0.9997728492825542, 0.04952803565112831, 0.9481081110358848, 0.8794666374612217, 0.9983606374663749, 0.9972592258757108, 0.5523471573261334, 0.15762101806623804, 0.28829827236046957, 0.03218393847996206, 0.9666675807731462, 0.501582593921121, 0.047277298985201395, 0.0007387077966437718, 0.449873048156057, 0.47061667062739576, 0.13805804545776507, 0.37051475447639515, 0.013963135651711282, 0.00648990811980947, 0.995350870435747, 0.18659179768059544, 0.8133737619340751, 0.9911420903670282, 0.683084206985648, 0.04446805706502498, 0.24741478446311255, 0.0013712616716086998, 0.02370323746637895, 0.9423156596159348, 0.9893014764752807], \"Term\": [\"_\", \"accept\", \"access\", \"access_digex\", \"act\", \"act\", \"action\", \"action\", \"actually\", \"adam\", \"address\", \"address\", \"address\", \"administration\", \"adobe\", \"advance\", \"advanced\", \"advice\", \"agency\", \"agency\", \"ai\", \"air\", \"air\", \"air\", \"algorithm\", \"algorithm\", \"allow\", \"allow\", \"allow\", \"also\", \"also\", \"also\", \"also\", \"always\", \"american\", \"ammunition\", \"amp\", \"announcement\", \"apollo\", \"apple\", \"application\", \"application\", \"approach\", \"approach\", \"approach\", \"approach\", \"apr\", \"april\", \"april\", \"april\", \"arab\", \"argument\", \"argument\", \"argument\", \"arizona\", \"arm\", \"armenia\", \"armenian\", \"army\", \"army\", \"article\", \"article\", \"astronomy\", \"atheism\", \"atheist\", \"athlete\", \"attack\", \"attack\", \"australia\", \"authority\", \"auto\", \"auto\", \"available\", \"aware\", \"ax\", \"back\", \"back\", \"bad\", \"bad\", \"baseball\", \"battery\", \"be\", \"belief\", \"believe\", \"believe\", \"berlin\", \"bible\", \"biblical\", \"bike\", \"birthday\", \"bit\", \"bit\", \"bit\", \"bk\", \"blue\", \"board\", \"bomb\", \"book\", \"book\", \"book\", \"boston\", \"boston\", \"boulevard\", \"brain\", \"bridge\", \"bristol\", \"brown\", \"buffalo\", \"bullet\", \"bureau\", \"bury\", \"button\", \"buy\", \"buying\", \"caltech\", \"cambridge\", \"campaign\", \"canadian\", \"captain\", \"car\", \"card\", \"carry\", \"carry\", \"carry\", \"carry\", \"case\", \"case\", \"case\", \"catch\", \"cause\", \"cbr\", \"cd_rom\", \"center\", \"center\", \"center\", \"centerline_software\", \"charle\", \"cheap\", \"cheap\", \"chicago\", \"chicago\", \"chicago\", \"child\", \"child\", \"child\", \"child\", \"chip\", \"chip\", \"christ\", \"christian\", \"christianity\", \"church\", \"circuit\", \"citizen\", \"citizen\", \"city\", \"city\", \"city\", \"city\", \"city\", \"claim\", \"claim\", \"claim\", \"clinton\", \"clipper\", \"clipper_chip\", \"club\", \"cmu\", \"collin\", \"color\", \"com\", \"come\", \"commit\", \"community\", \"compare\", \"compile\", \"computer\", \"conclusion\", \"conclusion\", \"conference\", \"congress\", \"conjecture\", \"consistently\", \"convert\", \"cool\", \"cooperation\", \"cop\", \"copy\", \"copy\", \"cord\", \"corp\", \"corporation\", \"correction\", \"country\", \"country\", \"course\", \"court\", \"cpu\", \"crack\", \"crew\", \"crime\", \"crime\", \"criminal\", \"crypto\", \"cub\", \"custom\", \"cycle\", \"cylinder\", \"d\", \"d\", \"d\", \"dale\", \"dangerous\", \"datum\", \"daughter\", \"david\", \"david\", \"day\", \"day\", \"dean\", \"death\", \"death\", \"death\", \"declaration\", \"default\", \"defense\", \"defense\", \"democracy\", \"deny\", \"deny\", \"dept\", \"dept\", \"designer\", \"detroit\", \"device\", \"devil\", \"direct\", \"directory\", \"disarm\", \"discount\", \"discussion\", \"disease\", \"disk\", \"display\", \"division\", \"division\", \"do\", \"do\", \"do\", \"do\", \"doctor\", \"dod\", \"dog\", \"door\", \"dr\", \"drive\", \"drive\", \"driver\", \"driver\", \"drug\", \"earth\", \"earth\", \"eat\", \"ed\", \"edition\", \"el\", \"email\", \"employer\", \"employment\", \"encryption\", \"engage\", \"engine\", \"enough\", \"entry\", \"environmental\", \"era\", \"error\", \"error\", \"escape\", \"essentially\", \"europe\", \"eve\", \"even\", \"evidence\", \"evidence\", \"exist\", \"exist\", \"exist\", \"exist\", \"expansion\", \"explain\", \"explain\", \"export\", \"express_access\", \"fact\", \"fact\", \"fact\", \"factory\", \"faith\", \"false\", \"fame\", \"family\", \"fan\", \"far\", \"father\", \"fbi\", \"fear\", \"federal\", \"feel\", \"fi\", \"fight\", \"file\", \"film\", \"final\", \"final\", \"find\", \"find\", \"find\", \"find\", \"finish\", \"fire\", \"fire\", \"firearm\", \"first\", \"first\", \"first\", \"first\", \"first\", \"flight\", \"floor\", \"flyer\", \"font\", \"force\", \"force\", \"force\", \"format\", \"frame\", \"free\", \"free\", \"free\", \"free\", \"freedom\", \"game\", \"gary\", \"gateway\", \"generate\", \"genesis\", \"genocide\", \"german\", \"get\", \"get\", \"get\", \"get\", \"giant\", \"gift\", \"girl\", \"give\", \"give\", \"go\", \"go\", \"go\", \"goal\", \"goal\", \"god\", \"good\", \"good\", \"good\", \"government\", \"government\", \"government\", \"graphic\", \"greek\", \"greek\", \"greenbelt_md\", \"gretzky\", \"group\", \"group\", \"group\", \"group\", \"group\", \"gun\", \"gun_control\", \"half\", \"hall\", \"hall\", \"hand\", \"happen\", \"hardware\", \"hate\", \"health\", \"heat\", \"helmet\", \"help\", \"help\", \"help\", \"help\", \"hide\", \"hill\", \"hit\", \"hit\", \"hit\", \"hitler\", \"hitter\", \"ho\", \"holocaust\", \"holy\", \"homosexual\", \"honda\", \"honesty\", \"hope\", \"host\", \"hostility\", \"hot\", \"hot\", \"hot\", \"hour\", \"hp\", \"human_being\", \"i\", \"i\", \"ice\", \"image\", \"image\", \"immediate\", \"imprison\", \"in\", \"include\", \"include\", \"include\", \"info\", \"info\", \"information\", \"information\", \"input\", \"insurance\", \"intel\", \"interested\", \"interested\", \"internet\", \"interpret\", \"interpretation\", \"iran\", \"islam\", \"islamic\", \"islamic\", \"israel\", \"israeli\", \"issue\", \"issue\", \"issue\", \"jason\", \"jew\", \"jew\", \"jew\", \"jim_frost\", \"joseph\", \"journal\", \"journal\", \"july\", \"keep\", \"key\", \"keyword\", \"keyword\", \"kid\", \"kill\", \"kill\", \"kill\", \"kind\", \"know\", \"know\", \"koresh\", \"kurd\", \"laboratory\", \"laboratory\", \"land\", \"land\", \"last\", \"last\", \"last\", \"last\", \"launch\", \"law\", \"leafs\", \"legal\", \"lemieux\", \"let\", \"lie\", \"lie\", \"lie\", \"life\", \"life\", \"life\", \"line\", \"line\", \"list\", \"list\", \"list\", \"list\", \"locate\", \"logic\", \"london\", \"longer_exist\", \"look\", \"look\", \"look\", \"look\", \"lord\", \"lose\", \"lose\", \"ltd\", \"lunar\", \"m\", \"m\", \"m\", \"mac\", \"machine\", \"mail\", \"mail\", \"make\", \"make\", \"make\", \"man\", \"man\", \"man\", \"manager\", \"manager\", \"many\", \"many\", \"many\", \"many\", \"map\", \"mar\", \"march\", \"mark\", \"marlboro\", \"massacre\", \"master\", \"material\", \"material\", \"max\", \"maybe\", \"md\", \"meet\", \"member\", \"memory\", \"message\", \"message\", \"message\", \"met\", \"mhz\", \"michael\", \"michigan\", \"microsoft\", \"mike\", \"mile\", \"militia\", \"milwaukee\", \"min\", \"minnesota\", \"minority\", \"mission\", \"mit\", \"mit\", \"model\", \"model\", \"modem\", \"monitor\", \"month\", \"month\", \"montreal\", \"moon\", \"moral\", \"moral\", \"moslem\", \"motor\", \"motto\", \"mountain\", \"mouse\", \"movie\", \"mr\", \"mr\", \"mr\", \"ms\", \"ms\", \"mu\", \"much\", \"much\", \"much\", \"murder\", \"murder\", \"muslim\", \"muslim\", \"n\", \"nasa\", \"national\", \"national\", \"national\", \"nazi\", \"need\", \"need\", \"need\", \"need\", \"net\", \"net\", \"net\", \"net\", \"netcom\", \"network\", \"never\", \"new\", \"new\", \"new\", \"new\", \"new\", \"news\", \"news\", \"newsgroup\", \"next\", \"next\", \"next\", \"next\", \"nhl\", \"nntp_poste\", \"northern\", \"notice\", \"nsa\", \"nuclear\", \"number\", \"number\", \"number\", \"obviously\", \"occupation\", \"occupy\", \"octopus\", \"officer\", \"official\", \"official\", \"online_communication\", \"orbit\", \"organisation\", \"organization\", \"origin\", \"originator\", \"output\", \"ozone\", \"pa\", \"pack\", \"package\", \"party\", \"passage\", \"pat\", \"patient\", \"payment\", \"pc\", \"pen\", \"penalty\", \"penguin\", \"people\", \"people\", \"people\", \"people\", \"period\", \"person\", \"person\", \"phone\", \"phone\", \"phone\", \"physical\", \"pick\", \"pick\", \"pick\", \"pin\", \"pinch\", \"pistol\", \"pitch\", \"pittsburgh\", \"plane\", \"planet\", \"planet\", \"planetary\", \"plant\", \"plant\", \"play\", \"play\", \"player\", \"please_respond\", \"po_andrew\", \"point\", \"point\", \"police\", \"policy\", \"policy\", \"pop\", \"post\", \"post\", \"post\", \"power\", \"power\", \"power\", \"power\", \"pp\", \"president\", \"price\", \"price\", \"printer\", \"priority\", \"private\", \"private\", \"private\", \"prize\", \"probe\", \"problem\", \"problem\", \"problem\", \"proceed\", \"processor\", \"program\", \"program\", \"program\", \"progress\", \"project\", \"project\", \"project\", \"proof\", \"property\", \"proposal\", \"propose\", \"protection\", \"prove\", \"prove\", \"prove\", \"provide\", \"provide\", \"provide\", \"provide\", \"ps\", \"pt\", \"public\", \"public\", \"publish\", \"punishment\", \"purpose\", \"purpose\", \"purpose\", \"purpose\", \"put\", \"put\", \"question\", \"question\", \"question\", \"question\", \"question\", \"question\", \"quran\", \"qwk\", \"radius\", \"rd\", \"rd\", \"rd\", \"re\", \"reactor\", \"reality\", \"reality\", \"reason\", \"reason\", \"register\", \"register\", \"register\", \"reject\", \"reject\", \"relation\", \"religion\", \"religious\", \"religious\", \"religious\", \"remember\", \"remind\", \"remind\", \"render\", \"reply\", \"reply\", \"reply\", \"report\", \"report\", \"report\", \"report\", \"republic\", \"research\", \"research\", \"research\", \"resolution\", \"respect\", \"revelation\", \"revolver\", \"rick\", \"ride\", \"rider\", \"right\", \"right\", \"road\", \"road\", \"road\", \"rob\", \"robert\", \"rocket\", \"rom\", \"route\", \"routine\", \"rs\", \"rsa\", \"ruin\", \"rule\", \"rule\", \"run\", \"run\", \"run\", \"run\", \"run\", \"runner\", \"rushdie\", \"russia\", \"russian\", \"russian\", \"s\", \"s\", \"sabbath\", \"sabre\", \"safety\", \"safety\", \"sale\", \"sale\", \"san_jose\", \"satellite\", \"say\", \"say\", \"sc\", \"scan\", \"schneider\", \"scholar\", \"sci\", \"science\", \"science\", \"science\", \"score\", \"scott\", \"screen\", \"scripture\", \"scsi\", \"season\", \"secret\", \"secret\", \"section\", \"secure\", \"secure\", \"security\", \"see\", \"seem\", \"sell\", \"sell\", \"send\", \"send\", \"send\", \"send\", \"send\", \"sense\", \"sense\", \"sense\", \"serdar_argic\", \"serial\", \"series\", \"series\", \"serious\", \"server\", \"services_gu\", \"session\", \"session\", \"set\", \"set\", \"set\", \"shell\", \"shoot\", \"shoot\", \"shoot\", \"show\", \"shuttle\", \"sister\", \"size\", \"sky\", \"slaughter\", \"slow\", \"society\", \"software\", \"solar\", \"soldier\", \"solution\", \"son\", \"son\", \"sorry\", \"source\", \"source\", \"source\", \"source\", \"soviet\", \"soviet_union\", \"space\", \"space\", \"space_station\", \"spacecraft\", \"speed\", \"speed\", \"sport\", \"squad\", \"star\", \"star\", \"starter\", \"stat\", \"state\", \"state\", \"status\", \"steam\", \"step\", \"stephen\", \"steve\", \"still\", \"still\", \"stratus_computer\", \"stuart\", \"student\", \"stupid\", \"suitable\", \"sun\", \"sunday\", \"super\", \"support\", \"support\", \"support\", \"switch\", \"switch\", \"system\", \"tail\", \"take\", \"talk\", \"tank\", \"tank\", \"tap\", \"tape\", \"tax\", \"tc\", \"team\", \"team_captain\", \"technology\", \"technology\", \"technology\", \"technology\", \"television\", \"tell\", \"telnet\", \"terrorism\", \"texas\", \"thank\", \"thank\", \"thermal\", \"thing\", \"think\", \"ticket\", \"tie\", \"tim_clock\", \"time\", \"time\", \"time\", \"timing\", \"tip\", \"tolerance\", \"tom\", \"toronto\", \"toshiba\", \"trade\", \"tradition\", \"trap\", \"travel\", \"treatment\", \"trial\", \"triangle\", \"trigger\", \"troop\", \"troop\", \"true\", \"true\", \"true\", \"true\", \"trust\", \"truth\", \"try\", \"try\", \"turk\", \"turkey\", \"turkish\", \"type\", \"type\", \"united_state\", \"univ\", \"universe\", \"university\", \"university\", \"up\", \"update\", \"urbana\", \"usa\", \"usa\", \"usa\", \"use\", \"use\", \"use\", \"use\", \"user\", \"user\", \"uunet\", \"value\", \"value\", \"van\", \"vehicle\", \"vehicle\", \"venus\", \"version_pl\", \"version_pl\", \"video\", \"village\", \"violence\", \"vol\", \"want\", \"want\", \"want\", \"war\", \"war\", \"water\", \"water\", \"way\", \"way\", \"weapon\", \"well\", \"well\", \"well\", \"widget\", \"wife\", \"willing\", \"win\", \"win\", \"window\", \"wing\", \"wing\", \"wipe\", \"wire\", \"withdraw\", \"woman\", \"woman\", \"woman\", \"wonder\", \"wonder\", \"word\", \"word\", \"word\", \"word\", \"work\", \"work\", \"work\", \"work\", \"work\", \"workstation\", \"write\", \"write\", \"wwii\", \"year\", \"year\", \"year\", \"year\", \"year\", \"york\", \"zone\"]}, \"R\": 30, \"lambda.step\": 0.01, \"plot.opts\": {\"xlab\": \"PC1\", \"ylab\": \"PC2\"}, \"topic.order\": [3, 9, 15, 1, 4, 8, 16, 7, 11, 18, 13, 20, 10, 12, 6, 19, 17, 5, 14, 2]};\n",
       "\n",
       "function LDAvis_load_lib(url, callback){\n",
       "  var s = document.createElement('script');\n",
       "  s.src = url;\n",
       "  s.async = true;\n",
       "  s.onreadystatechange = s.onload = callback;\n",
       "  s.onerror = function(){console.warn(\"failed to load library \" + url);};\n",
       "  document.getElementsByTagName(\"head\")[0].appendChild(s);\n",
       "}\n",
       "\n",
       "if(typeof(LDAvis) !== \"undefined\"){\n",
       "   // already loaded: just create the visualization\n",
       "   !function(LDAvis){\n",
       "       new LDAvis(\"#\" + \"ldavis_el529616035626058082378130069\", ldavis_el529616035626058082378130069_data);\n",
       "   }(LDAvis);\n",
       "}else if(typeof define === \"function\" && define.amd){\n",
       "   // require.js is available: use it to load d3/LDAvis\n",
       "   require.config({paths: {d3: \"https://d3js.org/d3.v5\"}});\n",
       "   require([\"d3\"], function(d3){\n",
       "      window.d3 = d3;\n",
       "      LDAvis_load_lib(\"https://cdn.jsdelivr.net/gh/bmabey/pyLDAvis@3.3.1/pyLDAvis/js/ldavis.v3.0.0.js\", function(){\n",
       "        new LDAvis(\"#\" + \"ldavis_el529616035626058082378130069\", ldavis_el529616035626058082378130069_data);\n",
       "      });\n",
       "    });\n",
       "}else{\n",
       "    // require.js not available: dynamically load d3 & LDAvis\n",
       "    LDAvis_load_lib(\"https://d3js.org/d3.v5.js\", function(){\n",
       "         LDAvis_load_lib(\"https://cdn.jsdelivr.net/gh/bmabey/pyLDAvis@3.3.1/pyLDAvis/js/ldavis.v3.0.0.js\", function(){\n",
       "                 new LDAvis(\"#\" + \"ldavis_el529616035626058082378130069\", ldavis_el529616035626058082378130069_data);\n",
       "            })\n",
       "         });\n",
       "}\n",
       "</script>"
      ],
      "text/plain": [
       "PreparedData(topic_coordinates=              x         y  topics  cluster       Freq\n",
       "topic                                                \n",
       "2      0.358189  0.017463       1        1  35.056378\n",
       "8      0.282085 -0.220944       2        1  16.038017\n",
       "14     0.294960 -0.081829       3        1  14.324550\n",
       "0      0.003513 -0.050851       4        1   6.009609\n",
       "3      0.186894  0.225524       5        1   5.584453\n",
       "7      0.094503 -0.166008       6        1   4.229497\n",
       "15     0.187580  0.245032       7        1   4.160920\n",
       "6      0.080533  0.111892       8        1   3.849918\n",
       "10     0.011231 -0.100317       9        1   2.105075\n",
       "17    -0.069537 -0.050278      10        1   1.578073\n",
       "12    -0.049271  0.110786      11        1   1.456550\n",
       "19    -0.105393 -0.013313      12        1   1.386439\n",
       "9     -0.056588 -0.045940      13        1   1.252654\n",
       "11    -0.107564  0.020523      14        1   1.137261\n",
       "5     -0.160923  0.000434      15        1   0.615804\n",
       "18    -0.159995 -0.002578      16        1   0.440360\n",
       "16    -0.190495 -0.001131      17        1   0.273142\n",
       "4     -0.191266 -0.000082      18        1   0.244990\n",
       "13    -0.204291  0.000813      19        1   0.150895\n",
       "1     -0.204166  0.000804      20        1   0.105415, topic_info=              Term          Freq         Total Category  logprob  loglift\n",
       "5422            ax  49570.000000  49570.000000  Default  30.0000  30.0000\n",
       "18            line  18756.000000  18756.000000  Default  29.0000  29.0000\n",
       "26    organization  17206.000000  17206.000000  Default  28.0000  28.0000\n",
       "1086             _   7674.000000   7674.000000  Default  27.0000  27.0000\n",
       "232          write  14416.000000  14416.000000  Default  26.0000  26.0000\n",
       "...            ...           ...           ...      ...      ...      ...\n",
       "6677    consulting      0.017292      1.241361  Topic20 -11.4454   2.5813\n",
       "6788     connected      0.017292      1.241362  Topic20 -11.4454   2.5813\n",
       "4658       connect      0.017293      1.241407  Topic20 -11.4454   2.5813\n",
       "6517    connection      0.017292      1.241394  Topic20 -11.4454   2.5813\n",
       "6195         laugh      0.017292      1.241388  Topic20 -11.4454   2.5813\n",
       "\n",
       "[875 rows x 6 columns], token_table=      Topic      Freq          Term\n",
       "term                               \n",
       "1086      4  0.999908             _\n",
       "1589      5  0.998664        accept\n",
       "95        3  0.999091        access\n",
       "3756     16  0.980767  access_digex\n",
       "1779      5  0.734031           act\n",
       "...     ...       ...           ...\n",
       "45        9  0.247415          year\n",
       "45       11  0.001371          year\n",
       "45       13  0.023703          year\n",
       "4430     18  0.942316          york\n",
       "2608     19  0.989301          zone\n",
       "\n",
       "[1078 rows x 3 columns], R=30, lambda_step=0.01, plot_opts={'xlab': 'PC1', 'ylab': 'PC2'}, topic_order=[3, 9, 15, 1, 4, 8, 16, 7, 11, 18, 13, 20, 10, 12, 6, 19, 17, 5, 14, 2])"
      ]
     },
     "execution_count": 25,
     "metadata": {},
     "output_type": "execute_result"
    }
   ],
   "source": [
    "# Visualize the topics\n",
    "pyLDAvis.enable_notebook()\n",
    "vis = pyLDAvis.gensim_models.prepare(lda_model, corpus, id2word)\n",
    "vis"
   ]
  }
 ],
 "metadata": {
  "interpreter": {
   "hash": "d835b9d6547198496337f4d2de04abf3395832a8b4aee7b55cf3102d3ef3dae9"
  },
  "kernelspec": {
   "display_name": "Python 3.8.5 64-bit ('base': conda)",
   "name": "python3"
  },
  "language_info": {
   "codemirror_mode": {
    "name": "ipython",
    "version": 3
   },
   "file_extension": ".py",
   "mimetype": "text/x-python",
   "name": "python",
   "nbconvert_exporter": "python",
   "pygments_lexer": "ipython3",
   "version": "3.8.5"
  },
  "orig_nbformat": 4
 },
 "nbformat": 4,
 "nbformat_minor": 2
}
